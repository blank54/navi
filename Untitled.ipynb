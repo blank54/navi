{
 "cells": [
  {
   "cell_type": "code",
   "execution_count": 1,
   "metadata": {},
   "outputs": [],
   "source": [
    "# Configuration\n",
    "import json\n",
    "import copy\n",
    "import pickle as pk\n",
    "import pandas as pd\n",
    "from collections import defaultdict\n",
    "\n",
    "import sys\n",
    "sys.path.append('/data/blank54/workspace/project/navi/')\n",
    "from object import Activity, Work, Project\n",
    "from naviutil import NaviPath\n",
    "navipath = NaviPath()"
   ]
  },
  {
   "cell_type": "markdown",
   "metadata": {},
   "source": [
    "## NaviPath"
   ]
  },
  {
   "cell_type": "code",
   "execution_count": 12,
   "metadata": {},
   "outputs": [
    {
     "data": {
      "text/html": [
       "<div>\n",
       "<style scoped>\n",
       "    .dataframe tbody tr th:only-of-type {\n",
       "        vertical-align: middle;\n",
       "    }\n",
       "\n",
       "    .dataframe tbody tr th {\n",
       "        vertical-align: top;\n",
       "    }\n",
       "\n",
       "    .dataframe thead th {\n",
       "        text-align: right;\n",
       "    }\n",
       "</style>\n",
       "<table border=\"1\" class=\"dataframe\">\n",
       "  <thead>\n",
       "    <tr style=\"text-align: right;\">\n",
       "      <th></th>\n",
       "      <th>name</th>\n",
       "      <th>code</th>\n",
       "    </tr>\n",
       "  </thead>\n",
       "  <tbody>\n",
       "    <tr>\n",
       "      <th>0</th>\n",
       "      <td>철거</td>\n",
       "      <td>100</td>\n",
       "    </tr>\n",
       "    <tr>\n",
       "      <th>1</th>\n",
       "      <td>마킹</td>\n",
       "      <td>110</td>\n",
       "    </tr>\n",
       "    <tr>\n",
       "      <th>2</th>\n",
       "      <td>칸막이A</td>\n",
       "      <td>120</td>\n",
       "    </tr>\n",
       "    <tr>\n",
       "      <th>3</th>\n",
       "      <td>칸막이B</td>\n",
       "      <td>130</td>\n",
       "    </tr>\n",
       "    <tr>\n",
       "      <th>4</th>\n",
       "      <td>방통</td>\n",
       "      <td>140</td>\n",
       "    </tr>\n",
       "  </tbody>\n",
       "</table>\n",
       "</div>"
      ],
      "text/plain": [
       "   name  code\n",
       "0    철거   100\n",
       "1    마킹   110\n",
       "2  칸막이A   120\n",
       "3  칸막이B   130\n",
       "4    방통   140"
      ]
     },
     "execution_count": 12,
     "metadata": {},
     "output_type": "execute_result"
    }
   ],
   "source": [
    "pd.read_excel(navipath.activity_list)"
   ]
  },
  {
   "cell_type": "code",
   "execution_count": 13,
   "metadata": {},
   "outputs": [
    {
     "data": {
      "text/html": [
       "<div>\n",
       "<style scoped>\n",
       "    .dataframe tbody tr th:only-of-type {\n",
       "        vertical-align: middle;\n",
       "    }\n",
       "\n",
       "    .dataframe tbody tr th {\n",
       "        vertical-align: top;\n",
       "    }\n",
       "\n",
       "    .dataframe thead th {\n",
       "        text-align: right;\n",
       "    }\n",
       "</style>\n",
       "<table border=\"1\" class=\"dataframe\">\n",
       "  <thead>\n",
       "    <tr style=\"text-align: right;\">\n",
       "      <th></th>\n",
       "      <th>code</th>\n",
       "      <th>productivity</th>\n",
       "    </tr>\n",
       "  </thead>\n",
       "  <tbody>\n",
       "    <tr>\n",
       "      <th>0</th>\n",
       "      <td>100</td>\n",
       "      <td>1</td>\n",
       "    </tr>\n",
       "    <tr>\n",
       "      <th>1</th>\n",
       "      <td>110</td>\n",
       "      <td>2</td>\n",
       "    </tr>\n",
       "    <tr>\n",
       "      <th>2</th>\n",
       "      <td>120</td>\n",
       "      <td>1</td>\n",
       "    </tr>\n",
       "    <tr>\n",
       "      <th>3</th>\n",
       "      <td>130</td>\n",
       "      <td>2</td>\n",
       "    </tr>\n",
       "    <tr>\n",
       "      <th>4</th>\n",
       "      <td>140</td>\n",
       "      <td>3</td>\n",
       "    </tr>\n",
       "  </tbody>\n",
       "</table>\n",
       "</div>"
      ],
      "text/plain": [
       "   code  productivity\n",
       "0   100             1\n",
       "1   110             2\n",
       "2   120             1\n",
       "3   130             2\n",
       "4   140             3"
      ]
     },
     "execution_count": 13,
     "metadata": {},
     "output_type": "execute_result"
    }
   ],
   "source": [
    "pd.read_excel(navipath.productivity_list)"
   ]
  },
  {
   "cell_type": "code",
   "execution_count": 14,
   "metadata": {},
   "outputs": [
    {
     "data": {
      "text/html": [
       "<div>\n",
       "<style scoped>\n",
       "    .dataframe tbody tr th:only-of-type {\n",
       "        vertical-align: middle;\n",
       "    }\n",
       "\n",
       "    .dataframe tbody tr th {\n",
       "        vertical-align: top;\n",
       "    }\n",
       "\n",
       "    .dataframe thead th {\n",
       "        text-align: right;\n",
       "    }\n",
       "</style>\n",
       "<table border=\"1\" class=\"dataframe\">\n",
       "  <thead>\n",
       "    <tr style=\"text-align: right;\">\n",
       "      <th></th>\n",
       "      <th>seq_id</th>\n",
       "      <th>precede</th>\n",
       "      <th>follow</th>\n",
       "    </tr>\n",
       "  </thead>\n",
       "  <tbody>\n",
       "    <tr>\n",
       "      <th>0</th>\n",
       "      <td>1</td>\n",
       "      <td>철거</td>\n",
       "      <td>마킹</td>\n",
       "    </tr>\n",
       "    <tr>\n",
       "      <th>1</th>\n",
       "      <td>2</td>\n",
       "      <td>마킹</td>\n",
       "      <td>칸막이A</td>\n",
       "    </tr>\n",
       "    <tr>\n",
       "      <th>2</th>\n",
       "      <td>3</td>\n",
       "      <td>칸막이A</td>\n",
       "      <td>칸막이B</td>\n",
       "    </tr>\n",
       "    <tr>\n",
       "      <th>3</th>\n",
       "      <td>4</td>\n",
       "      <td>칸막이B</td>\n",
       "      <td>방통</td>\n",
       "    </tr>\n",
       "    <tr>\n",
       "      <th>4</th>\n",
       "      <td>5</td>\n",
       "      <td>방통</td>\n",
       "      <td>천정</td>\n",
       "    </tr>\n",
       "    <tr>\n",
       "      <th>5</th>\n",
       "      <td>6</td>\n",
       "      <td>천정</td>\n",
       "      <td>바닥</td>\n",
       "    </tr>\n",
       "    <tr>\n",
       "      <th>6</th>\n",
       "      <td>7</td>\n",
       "      <td>바닥</td>\n",
       "      <td>도어</td>\n",
       "    </tr>\n",
       "    <tr>\n",
       "      <th>7</th>\n",
       "      <td>8</td>\n",
       "      <td>도어</td>\n",
       "      <td>가구</td>\n",
       "    </tr>\n",
       "    <tr>\n",
       "      <th>8</th>\n",
       "      <td>9</td>\n",
       "      <td>가구</td>\n",
       "      <td>가전</td>\n",
       "    </tr>\n",
       "  </tbody>\n",
       "</table>\n",
       "</div>"
      ],
      "text/plain": [
       "   seq_id precede follow\n",
       "0       1      철거     마킹\n",
       "1       2      마킹   칸막이A\n",
       "2       3    칸막이A   칸막이B\n",
       "3       4    칸막이B     방통\n",
       "4       5      방통     천정\n",
       "5       6      천정     바닥\n",
       "6       7      바닥     도어\n",
       "7       8      도어     가구\n",
       "8       9      가구     가전"
      ]
     },
     "execution_count": 14,
     "metadata": {},
     "output_type": "execute_result"
    }
   ],
   "source": [
    "pd.read_excel(navipath.activity_sequence)"
   ]
  },
  {
   "cell_type": "markdown",
   "metadata": {},
   "source": [
    "## Case 01"
   ]
  },
  {
   "cell_type": "code",
   "execution_count": 15,
   "metadata": {},
   "outputs": [],
   "source": [
    "with open(navipath.activity2code, 'r', encoding='utf-8') as f:\n",
    "    activity2code = json.load(f)\n",
    "    \n",
    "with open(navipath.activity2productivity, 'r', encoding='utf-8') as f:\n",
    "    activity2productivity = json.load(f)"
   ]
  },
  {
   "cell_type": "code",
   "execution_count": 16,
   "metadata": {},
   "outputs": [],
   "source": [
    "def assign_work_on_grid(case_data):\n",
    "    current_grid = ''\n",
    "    works = defaultdict(list)\n",
    "\n",
    "    for idx, record in case_data.iterrows():\n",
    "        if current_grid == record['grid']:\n",
    "            day += 1\n",
    "        else:\n",
    "            current_grid = copy.deepcopy(record['grid'])\n",
    "            day = 0\n",
    "\n",
    "        name = record['activity_name']\n",
    "        code = activity2code[record['activity_name']]\n",
    "        productivity = activity2productivity[code]\n",
    "\n",
    "        activity = Activity(code=code, name=name, productivity=productivity)\n",
    "        works[current_grid].append(Work(grid=current_grid, activity=activity, day=day))\n",
    "        \n",
    "    return Project(works)"
   ]
  },
  {
   "cell_type": "code",
   "execution_count": 17,
   "metadata": {},
   "outputs": [],
   "source": [
    "case_data = pd.read_excel(navipath.case_01)\n",
    "project = assign_work_on_grid(case_data)"
   ]
  },
  {
   "cell_type": "code",
   "execution_count": 18,
   "metadata": {},
   "outputs": [
    {
     "name": "stdout",
     "output_type": "stream",
     "text": [
      "[A1]: /// 철거    /// at day 0\n",
      "[A1]: /// 마킹    /// at day 1\n",
      "[A1]: /// 칸막이A  /// at day 2\n",
      "[A1]: /// 칸막이B  /// at day 3\n",
      "[A1]: /// 방통    /// at day 4\n",
      "[A2]: /// 철거    /// at day 0\n",
      "[A2]: /// 칸막이A  /// at day 1\n",
      "[A2]: /// 칸막이B  /// at day 2\n",
      "[A2]: /// 방통    /// at day 3\n"
     ]
    }
   ],
   "source": [
    "for work in project.works['A1']:\n",
    "    print('[{}]: /// {:<5} /// at day {}'.format(work.grid, work.activity.name, work.day))\n",
    "\n",
    "for work in project.works['A2']:\n",
    "    print('[{}]: /// {:<5} /// at day {}'.format(work.grid, work.activity.name, work.day))"
   ]
  },
  {
   "cell_type": "markdown",
   "metadata": {},
   "source": [
    "## workday_adjustment"
   ]
  },
  {
   "cell_type": "code",
   "execution_count": 19,
   "metadata": {},
   "outputs": [],
   "source": [
    "for w2 in project.works['A2']:\n",
    "    for w1 in project.works['A1']:\n",
    "        if w1.activity.name == w2.activity.name:            \n",
    "            if w2.day < w1.day:\n",
    "                w2.day = copy.deepcopy(w1.day)"
   ]
  },
  {
   "cell_type": "code",
   "execution_count": 21,
   "metadata": {},
   "outputs": [
    {
     "name": "stdout",
     "output_type": "stream",
     "text": [
      "[A2]: /// 철거    /// at day 0\n",
      "[A2]: /// 칸막이A  /// at day 2\n",
      "[A2]: /// 칸막이B  /// at day 3\n",
      "[A2]: /// 방통    /// at day 4\n"
     ]
    }
   ],
   "source": [
    "for work in project.works['A2']:\n",
    "    print('[{}]: /// {:<5} /// at day {}'.format(work.grid, work.activity.name, work.day))"
   ]
  },
  {
   "cell_type": "markdown",
   "metadata": {},
   "source": [
    "## Activity Sequence"
   ]
  },
  {
   "cell_type": "code",
   "execution_count": 15,
   "metadata": {},
   "outputs": [],
   "source": [
    "class Activity:\n",
    "    def __init__(self, code, name, productivity):\n",
    "        self.code = code\n",
    "        self.name = name\n",
    "        self.productivity = productivity\n",
    "        \n",
    "        self.precedes = []\n",
    "        self.follows = []\n",
    "\n",
    "    def __str__(self):\n",
    "        return self.name\n",
    "    \n",
    "    def add_precede(self, precede):\n",
    "        self.precedes.append(precede)\n",
    "        \n",
    "    def add_follow(self, follow):\n",
    "        self.follows.append(follow)"
   ]
  },
  {
   "cell_type": "code",
   "execution_count": 16,
   "metadata": {},
   "outputs": [],
   "source": [
    "fpath_sequence = '/data/blank54/workspace/project/navi/template/activity_sequence.xlsx'\n",
    "sequence_list = pd.read_excel(fpath_sequence)"
   ]
  },
  {
   "cell_type": "code",
   "execution_count": 17,
   "metadata": {},
   "outputs": [],
   "source": [
    "with open(navipath.activity2code, 'r', encoding='utf-8') as f:\n",
    "    activity2code = json.load(f)\n",
    "    \n",
    "with open(navipath.activity2productivity, 'r', encoding='utf-8') as f:\n",
    "    activity2productivity = json.load(f)"
   ]
  },
  {
   "cell_type": "code",
   "execution_count": 18,
   "metadata": {},
   "outputs": [],
   "source": [
    "def parse_activity(name):\n",
    "    code = activity2code[name]\n",
    "    productivity = activity2productivity[code]\n",
    "    \n",
    "    return name, code, productivity"
   ]
  },
  {
   "cell_type": "code",
   "execution_count": 19,
   "metadata": {},
   "outputs": [],
   "source": [
    "activity_list = []\n",
    "for name in activity2code.keys():\n",
    "    name, code, productivity = parse_activity(name)\n",
    "    activity_list.append(Activity(name=name, code=code, productivity=productivity))"
   ]
  },
  {
   "cell_type": "code",
   "execution_count": 21,
   "metadata": {},
   "outputs": [],
   "source": [
    "for _, seq in sequence_list.iterrows():\n",
    "    precede = [a for a in activity_list if a.name == seq['precede']][0]\n",
    "    follow = [a for a in activity_list if a.name == seq['follow']][0]\n",
    "    \n",
    "    precede.add_follow(follow)\n",
    "    follow.add_precede(precede)"
   ]
  },
  {
   "cell_type": "code",
   "execution_count": 28,
   "metadata": {},
   "outputs": [
    {
     "data": {
      "text/plain": [
       "'120'"
      ]
     },
     "execution_count": 28,
     "metadata": {},
     "output_type": "execute_result"
    }
   ],
   "source": [
    "activity_list[3].precedes[0].code"
   ]
  },
  {
   "cell_type": "markdown",
   "metadata": {},
   "source": [
    "## Project.check_sequence_consistency()"
   ]
  },
  {
   "cell_type": "code",
   "execution_count": 27,
   "metadata": {},
   "outputs": [],
   "source": [
    "## TODO: a kind of tree structure.\n"
   ]
  }
 ],
 "metadata": {
  "kernelspec": {
   "display_name": "Python 3",
   "language": "python",
   "name": "python3"
  },
  "language_info": {
   "codemirror_mode": {
    "name": "ipython",
    "version": 3
   },
   "file_extension": ".py",
   "mimetype": "text/x-python",
   "name": "python",
   "nbconvert_exporter": "python",
   "pygments_lexer": "ipython3",
   "version": "3.8.5"
  }
 },
 "nbformat": 4,
 "nbformat_minor": 4
}
