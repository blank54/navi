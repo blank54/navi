{
 "cells": [
  {
   "cell_type": "code",
   "execution_count": 6,
   "metadata": {},
   "outputs": [
    {
     "data": {
      "text/plain": [
       "__main__.FourCal"
      ]
     },
     "execution_count": 6,
     "metadata": {},
     "output_type": "execute_result"
    }
   ],
   "source": [
    "class FourCal:\n",
    "    pass\n",
    "a= FourCal()\n",
    "type(a)\n",
    "\n",
    "\n"
   ]
  },
  {
   "cell_type": "code",
   "execution_count": 5,
   "metadata": {},
   "outputs": [
    {
     "name": "stdout",
     "output_type": "stream",
     "text": [
      "6\n"
     ]
    }
   ],
   "source": [
    "\n",
    "class GourCal:\n",
    "\n",
    "    def setdata(self, num1, num2):\n",
    "        self.first = num1\n",
    "        self.second = num2        \n",
    "    \n",
    "    def add(self):\n",
    "        result = self.firstnum1+num2\n",
    "        return result\n",
    "    \n",
    "    def mul(self):\n",
    "        self.result = num1*num2\n",
    "        return self.result\n",
    "    \n",
    "    def div(self, num1, num2):\n",
    "        self.result = num1/num2\n",
    "        return self.result\n",
    "    \n",
    "    def sub(self, num1, num2):\n",
    "        self.result = num1-num2\n",
    "        return self.result\n",
    "    \n",
    "a= GourCal()\n",
    "print(a.add(4,2))\n",
    "a.\n",
    "\n"
   ]
  },
  {
   "cell_type": "code",
   "execution_count": 16,
   "metadata": {},
   "outputs": [
    {
     "data": {
      "text/plain": [
       "2.0"
      ]
     },
     "execution_count": 16,
     "metadata": {},
     "output_type": "execute_result"
    }
   ],
   "source": [
    "class GourCal:\n",
    "\n",
    "    def setdata(self, num1, num2):\n",
    "        self.first = num1\n",
    "        self.second = num2\n",
    "    \n",
    "    def add(self):\n",
    "        result = self.first + self.second\n",
    "        return result\n",
    "    \n",
    "    def mul(self):\n",
    "        result = self.first * self.second\n",
    "        return result\n",
    "    \n",
    "    def div(self):\n",
    "        result = self.first / self.second\n",
    "        return result\n",
    "    \n",
    "    def sub(self):\n",
    "        result = self.first - self.second\n",
    "        return result\n",
    "    \n",
    "a= GourCal()\n",
    "a.setdata(4,2)\n",
    "a.add()\n",
    "a.div()\n",
    "\n"
   ]
  },
  {
   "cell_type": "code",
   "execution_count": 17,
   "metadata": {},
   "outputs": [],
   "source": [
    "class GourCal:\n",
    "    def __init__(self, num1, num2):\n",
    "        self.first = num1\n",
    "        self.second = num2    \n",
    "\n",
    "    def setdata(self, num1, num2):\n",
    "        self.first = num1\n",
    "        self.second = num2\n",
    "    \n",
    "    def add(self):\n",
    "        result = self.first + self.second\n",
    "        return result\n",
    "    \n",
    "    def mul(self):\n",
    "        result = self.first * self.second\n",
    "        return result\n",
    "    \n",
    "    def div(self):\n",
    "        result = self.first / self.second\n",
    "        return result\n",
    "    \n",
    "    def sub(self):\n",
    "        result = self.first - self.second\n",
    "        return result\n",
    "    "
   ]
  }
 ],
 "metadata": {
  "kernelspec": {
   "display_name": "Python 3",
   "language": "python",
   "name": "python3"
  },
  "language_info": {
   "codemirror_mode": {
    "name": "ipython",
    "version": 3
   },
   "file_extension": ".py",
   "mimetype": "text/x-python",
   "name": "python",
   "nbconvert_exporter": "python",
   "pygments_lexer": "ipython3",
   "version": "3.8.3"
  }
 },
 "nbformat": 4,
 "nbformat_minor": 4
}
