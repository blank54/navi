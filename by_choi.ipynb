{
 "cells": [
  {
   "cell_type": "markdown",
   "metadata": {
    "colab_type": "text",
    "id": "R54WohKvttdM"
   },
   "source": [
    "### 라이브러리 설치"
   ]
  },
  {
   "cell_type": "code",
   "execution_count": 1,
   "metadata": {
    "colab": {
     "base_uri": "https://localhost:8080/",
     "height": 224
    },
    "colab_type": "code",
    "id": "ZoeRMvyjtydY",
    "outputId": "d3f7acae-1ecb-4b51-f8da-f1cd04b59ae1",
    "scrolled": true
   },
   "outputs": [
    {
     "name": "stdout",
     "output_type": "stream",
     "text": [
      "Collecting ortools\n",
      "  Downloading ortools-9.0.9048-cp38-cp38-manylinux1_x86_64.whl (14.4 MB)\n",
      "\u001b[K     |████████████████████████████████| 14.4 MB 864 kB/s eta 0:00:01\n",
      "\u001b[?25hCollecting protobuf>=3.15.8\n",
      "  Using cached protobuf-3.15.8-cp38-cp38-manylinux1_x86_64.whl (1.0 MB)\n",
      "Collecting absl-py>=0.11\n",
      "  Using cached absl_py-0.12.0-py3-none-any.whl (129 kB)\n",
      "Requirement already satisfied: six>=1.9 in /data/blank54/anaconda3/envs/navi/lib/python3.8/site-packages (from protobuf>=3.15.8->ortools) (1.15.0)\n",
      "Installing collected packages: protobuf, absl-py, ortools\n",
      "Successfully installed absl-py-0.12.0 ortools-9.0.9048 protobuf-3.15.8\n",
      "Requirement already satisfied: xlwt in /data/blank54/anaconda3/envs/navi/lib/python3.8/site-packages (1.3.0)\n",
      "Requirement already satisfied: networkx in /data/blank54/anaconda3/envs/navi/lib/python3.8/site-packages (2.5)\n",
      "Requirement already satisfied: decorator>=4.3.0 in /data/blank54/anaconda3/envs/navi/lib/python3.8/site-packages (from networkx) (4.4.2)\n"
     ]
    }
   ],
   "source": [
    "!pip install ortools\n",
    "!pip install xlwt\n",
    "!pip install networkx"
   ]
  },
  {
   "cell_type": "markdown",
   "metadata": {
    "colab_type": "text",
    "id": "iEFscPYBuLD0"
   },
   "source": [
    "### 데이터 불러오기\n",
    "\n",
    "왼쪽 파일 업로드 기능을 이용해서 엑셀 파일을 업로드해주세요.\n",
    "\n",
    "파일명은 navi_data.xlsx 이고, 액티비트 목록은 '마감작업'시트에, 작업생산성은 '작업생산성'시트에, 선후관계는 '선후관계' 시트에서 불러옵니다"
   ]
  },
  {
   "cell_type": "code",
   "execution_count": 3,
   "metadata": {
    "colab": {
     "base_uri": "https://localhost:8080/",
     "height": 221
    },
    "colab_type": "code",
    "id": "SGDM4N-jttdT",
    "outputId": "bea3fb64-be02-45b9-e23f-a6cb035e2d88"
   },
   "outputs": [
    {
     "name": "stdout",
     "output_type": "stream",
     "text": [
      "36\n"
     ]
    },
    {
     "data": {
      "text/html": [
       "<div>\n",
       "<style scoped>\n",
       "    .dataframe tbody tr th:only-of-type {\n",
       "        vertical-align: middle;\n",
       "    }\n",
       "\n",
       "    .dataframe tbody tr th {\n",
       "        vertical-align: top;\n",
       "    }\n",
       "\n",
       "    .dataframe thead th {\n",
       "        text-align: right;\n",
       "    }\n",
       "</style>\n",
       "<table border=\"1\" class=\"dataframe\">\n",
       "  <thead>\n",
       "    <tr style=\"text-align: right;\">\n",
       "      <th></th>\n",
       "      <th>grid</th>\n",
       "      <th>작업</th>\n",
       "    </tr>\n",
       "  </thead>\n",
       "  <tbody>\n",
       "    <tr>\n",
       "      <th>0</th>\n",
       "      <td>A1</td>\n",
       "      <td>철거</td>\n",
       "    </tr>\n",
       "    <tr>\n",
       "      <th>1</th>\n",
       "      <td>A1</td>\n",
       "      <td>마킹</td>\n",
       "    </tr>\n",
       "    <tr>\n",
       "      <th>2</th>\n",
       "      <td>A1</td>\n",
       "      <td>칸막이A</td>\n",
       "    </tr>\n",
       "    <tr>\n",
       "      <th>3</th>\n",
       "      <td>A1</td>\n",
       "      <td>칸막이B</td>\n",
       "    </tr>\n",
       "    <tr>\n",
       "      <th>4</th>\n",
       "      <td>A1</td>\n",
       "      <td>방통</td>\n",
       "    </tr>\n",
       "  </tbody>\n",
       "</table>\n",
       "</div>"
      ],
      "text/plain": [
       "  grid    작업\n",
       "0   A1    철거\n",
       "1   A1    마킹\n",
       "2   A1  칸막이A\n",
       "3   A1  칸막이B\n",
       "4   A1    방통"
      ]
     },
     "execution_count": 3,
     "metadata": {},
     "output_type": "execute_result"
    }
   ],
   "source": [
    "import pandas as pd\n",
    "\n",
    "jobs_df = pd.read_excel('navi_data.xlsx','그리드별작업리스트')\n",
    "jobs_df = jobs_df[jobs_df['grid'] != 'grid']  # index row is repeated\n",
    "print(len(jobs_df))\n",
    "jobs_df.head()\n",
    "#jobs_df.iloc[0]"
   ]
  },
  {
   "cell_type": "code",
   "execution_count": 4,
   "metadata": {
    "colab": {
     "base_uri": "https://localhost:8080/",
     "height": 221
    },
    "colab_type": "code",
    "id": "82JpnpfdttdW",
    "outputId": "a743cd07-dc38-456c-af9b-aa53e17cddf2"
   },
   "outputs": [
    {
     "name": "stdout",
     "output_type": "stream",
     "text": [
      "10\n"
     ]
    },
    {
     "data": {
      "text/html": [
       "<div>\n",
       "<style scoped>\n",
       "    .dataframe tbody tr th:only-of-type {\n",
       "        vertical-align: middle;\n",
       "    }\n",
       "\n",
       "    .dataframe tbody tr th {\n",
       "        vertical-align: top;\n",
       "    }\n",
       "\n",
       "    .dataframe thead th {\n",
       "        text-align: right;\n",
       "    }\n",
       "</style>\n",
       "<table border=\"1\" class=\"dataframe\">\n",
       "  <thead>\n",
       "    <tr style=\"text-align: right;\">\n",
       "      <th></th>\n",
       "      <th>Code</th>\n",
       "      <th>작업</th>\n",
       "      <th>생산성</th>\n",
       "      <th>선행완료</th>\n",
       "    </tr>\n",
       "  </thead>\n",
       "  <tbody>\n",
       "    <tr>\n",
       "      <th>0</th>\n",
       "      <td>100</td>\n",
       "      <td>철거</td>\n",
       "      <td>1</td>\n",
       "      <td>1</td>\n",
       "    </tr>\n",
       "    <tr>\n",
       "      <th>1</th>\n",
       "      <td>110</td>\n",
       "      <td>마킹</td>\n",
       "      <td>2</td>\n",
       "      <td>2</td>\n",
       "    </tr>\n",
       "    <tr>\n",
       "      <th>2</th>\n",
       "      <td>120</td>\n",
       "      <td>칸막이A</td>\n",
       "      <td>1</td>\n",
       "      <td>1</td>\n",
       "    </tr>\n",
       "    <tr>\n",
       "      <th>3</th>\n",
       "      <td>130</td>\n",
       "      <td>칸막이B</td>\n",
       "      <td>2</td>\n",
       "      <td>3</td>\n",
       "    </tr>\n",
       "    <tr>\n",
       "      <th>4</th>\n",
       "      <td>140</td>\n",
       "      <td>방통</td>\n",
       "      <td>3</td>\n",
       "      <td>4</td>\n",
       "    </tr>\n",
       "  </tbody>\n",
       "</table>\n",
       "</div>"
      ],
      "text/plain": [
       "   Code    작업  생산성  선행완료\n",
       "0   100    철거    1     1\n",
       "1   110    마킹    2     2\n",
       "2   120  칸막이A    1     1\n",
       "3   130  칸막이B    2     3\n",
       "4   140    방통    3     4"
      ]
     },
     "execution_count": 4,
     "metadata": {},
     "output_type": "execute_result"
    }
   ],
   "source": [
    "productivity_df = pd.read_excel('navi_data.xlsx','업무템플릿')\n",
    "print(len(productivity_df))\n",
    "productivity_df.head()"
   ]
  },
  {
   "cell_type": "code",
   "execution_count": 5,
   "metadata": {
    "colab": {
     "base_uri": "https://localhost:8080/",
     "height": 34
    },
    "colab_type": "code",
    "id": "0azAgI5-ttdY",
    "outputId": "d238b9a8-f3d4-4a4d-e4dc-b10af43b905a"
   },
   "outputs": [
    {
     "data": {
      "text/plain": [
       "{100: 1,\n",
       " 110: 2,\n",
       " 120: 1,\n",
       " 130: 2,\n",
       " 140: 3,\n",
       " 150: 1,\n",
       " 160: 2,\n",
       " 170: 1,\n",
       " 180: 2,\n",
       " 190: 1}"
      ]
     },
     "execution_count": 5,
     "metadata": {},
     "output_type": "execute_result"
    }
   ],
   "source": [
    "productivity_per_code = {}\n",
    "\n",
    "for row in productivity_df.itertuples():\n",
    "    productivity_per_code[row.Code] = row.생산성\n",
    "len(productivity_per_code)\n",
    "\n",
    "productivity_per_code"
   ]
  },
  {
   "cell_type": "code",
   "execution_count": 35,
   "metadata": {
    "colab": {},
    "colab_type": "code",
    "id": "n_dbxAO1ttdb"
   },
   "outputs": [],
   "source": [
    "import collections\n",
    "codes_per_area_type = collections.defaultdict(list)\n",
    "\n",
    "for row in jobs_df.itertuples():\n",
    "    codes_per_area_type[row.grid].append(row.작업)\n",
    "    \n",
    "# 중복검사\n",
    "for area_type, codes in codes_per_area_type.items():\n",
    "    if len(set(codes)) != len(codes):\n",
    "        print(f'그리드 {area_type}에서 오류:')\n",
    "        for code, count in collections.Counter(codes).items():\n",
    "            if count < 2:\n",
    "                continue\n",
    "            print(f'- 코드 {code}가 {count}번 중복되었습니다.')\n"
   ]
  },
  {
   "cell_type": "code",
   "execution_count": 38,
   "metadata": {
    "colab": {
     "base_uri": "https://localhost:8080/",
     "height": 34
    },
    "colab_type": "code",
    "id": "Emw1BBcfttdd",
    "outputId": "2c638571-e0bd-45d2-d3e8-f58eb49abcb0"
   },
   "outputs": [
    {
     "data": {
      "text/plain": [
       "\"\\njobs = []\\ncode_to_job_id = {}\\nfor row in jobs_df.itertuples():\\n    code = row.Code\\n    name = row.작업\\n    if code in code_to_job_id:\\n        # 이미 등록된 코드이면 작업명이 같아야함\\n        assert jobs[code_to_job_id[code]]['작업'] == name, code\\n    else:\\n        code_to_job_id[code] = len(jobs)\\n        jobs.append({\\n            '작업': name,\\n            'Code': code,\\n            '생산성': productivity_per_code[code],  # temp\\n            'requires': [],\\n        })\\nlen(jobs)\\n\""
      ]
     },
     "execution_count": 38,
     "metadata": {},
     "output_type": "execute_result"
    }
   ],
   "source": [
    "# Parse jobs \n",
    "\n",
    "jobs = []\n",
    "code_to_job_id = {}\n",
    "for row in jobs_df.itertuples():\n",
    "    code = row.Code\n",
    "    name = row.작업\n",
    "    if code in code_to_job_id:\n",
    "        # 이미 등록된 코드이면 작업명이 같아야함\n",
    "        assert jobs[code_to_job_id[code]]['작업'] == name, code\n",
    "    else:\n",
    "        code_to_job_id[code] = len(jobs)\n",
    "        jobs.append({\n",
    "            '작업': name,\n",
    "            'Code': code,\n",
    "            '생산성': productivity_per_code[code],  # temp\n",
    "            'requires': [],\n",
    "        })\n",
    "len(jobs)\n"
   ]
  },
  {
   "cell_type": "code",
   "execution_count": 39,
   "metadata": {
    "colab": {
     "base_uri": "https://localhost:8080/",
     "height": 221
    },
    "colab_type": "code",
    "id": "yZHCxkxattdg",
    "outputId": "081fc6fd-f886-4232-9115-38644a0abe9a"
   },
   "outputs": [
    {
     "name": "stdout",
     "output_type": "stream",
     "text": [
      "9\n"
     ]
    },
    {
     "data": {
      "text/html": [
       "<div>\n",
       "<style scoped>\n",
       "    .dataframe tbody tr th:only-of-type {\n",
       "        vertical-align: middle;\n",
       "    }\n",
       "\n",
       "    .dataframe tbody tr th {\n",
       "        vertical-align: top;\n",
       "    }\n",
       "\n",
       "    .dataframe thead th {\n",
       "        text-align: right;\n",
       "    }\n",
       "</style>\n",
       "<table border=\"1\" class=\"dataframe\">\n",
       "  <thead>\n",
       "    <tr style=\"text-align: right;\">\n",
       "      <th></th>\n",
       "      <th>선행</th>\n",
       "      <th>후행</th>\n",
       "    </tr>\n",
       "  </thead>\n",
       "  <tbody>\n",
       "    <tr>\n",
       "      <th>0</th>\n",
       "      <td>철거</td>\n",
       "      <td>마킹</td>\n",
       "    </tr>\n",
       "    <tr>\n",
       "      <th>1</th>\n",
       "      <td>마킹</td>\n",
       "      <td>칸막이A</td>\n",
       "    </tr>\n",
       "    <tr>\n",
       "      <th>2</th>\n",
       "      <td>칸막이A</td>\n",
       "      <td>칸막이B</td>\n",
       "    </tr>\n",
       "    <tr>\n",
       "      <th>3</th>\n",
       "      <td>칸막이B</td>\n",
       "      <td>방통</td>\n",
       "    </tr>\n",
       "    <tr>\n",
       "      <th>4</th>\n",
       "      <td>방통</td>\n",
       "      <td>천정</td>\n",
       "    </tr>\n",
       "  </tbody>\n",
       "</table>\n",
       "</div>"
      ],
      "text/plain": [
       "     선행    후행\n",
       "0    철거    마킹\n",
       "1    마킹  칸막이A\n",
       "2  칸막이A  칸막이B\n",
       "3  칸막이B    방통\n",
       "4    방통    천정"
      ]
     },
     "execution_count": 39,
     "metadata": {},
     "output_type": "execute_result"
    }
   ],
   "source": [
    "constraints_df = pd.read_excel('navi_data.xlsx','선후관계템플릿')\n",
    "print(len(constraints_df))\n",
    "\n",
    "# FS, SS, FF 관계 모두 FS로 처리함.\n",
    "constraints_df.head()"
   ]
  },
  {
   "cell_type": "code",
   "execution_count": 43,
   "metadata": {
    "colab": {
     "base_uri": "https://localhost:8080/",
     "height": 34
    },
    "colab_type": "code",
    "id": "qal1eH3Yttdj",
    "outputId": "1560d63c-8ec2-45d1-99e4-d4f52a24d72d"
   },
   "outputs": [
    {
     "name": "stdout",
     "output_type": "stream",
     "text": [
      "마킹 코드가 존재하지 않지만 무시합니다\n",
      "칸막이A 코드가 존재하지 않지만 무시합니다\n",
      "칸막이B 코드가 존재하지 않지만 무시합니다\n",
      "방통 코드가 존재하지 않지만 무시합니다\n",
      "천정 코드가 존재하지 않지만 무시합니다\n",
      "바닥 코드가 존재하지 않지만 무시합니다\n",
      "도어 코드가 존재하지 않지만 무시합니다\n",
      "가구 코드가 존재하지 않지만 무시합니다\n",
      "가전 코드가 존재하지 않지만 무시합니다\n"
     ]
    },
    {
     "data": {
      "text/plain": [
       "0"
      ]
     },
     "execution_count": 43,
     "metadata": {},
     "output_type": "execute_result"
    }
   ],
   "source": [
    "# Parse constraints\n",
    "\n",
    "# for row in constraints_df.itertuples():\n",
    "#     if row.후행 not in code_to_job_id:\n",
    "#        print(f'{row.후행} 코드가 존재하지 않지만 무시합니다')\n",
    "#        continue\n",
    "#     if row.선행 not in code_to_job_id:\n",
    "#        print(f'{row.선행} 코드가 존재하지 않지만 무시합니다')\n",
    "#        continue\n",
    "#     jobs[code_to_job_id[row.후행]]['requires'].append(code_to_job_id[row.선행])\n",
    "    \n",
    "# for job in jobs:\n",
    "#     # require condition 중복검사\n",
    "#     # SS도 있고 FF도 있어서 중복가능\n",
    "#     # assert len(set(job['requires'])) == len(job['requires']), job\n",
    "#     job['requires'] = list(set(job['requires']))\n",
    "    \n",
    "# # number of constraints\n",
    "# sum(len(job['requires']) for job in jobs)"
   ]
  },
  {
   "cell_type": "markdown",
   "metadata": {
    "colab_type": "text",
    "id": "WdxR2Hwsu9Ss"
   },
   "source": [
    "### 선후관계 사이클 조사\n",
    "\n",
    "선후관계가 순환되어 모순되어있는 경우를 조사합니다. 있다면, 선후관계 중 순환되는 부분을 끊어주어야 합니다."
   ]
  },
  {
   "cell_type": "code",
   "execution_count": 45,
   "metadata": {
    "colab": {
     "base_uri": "https://localhost:8080/",
     "height": 34
    },
    "colab_type": "code",
    "id": "kJ8Ja84FvTiI",
    "outputId": "a0de566e-9638-4e38-c221-328d855f7b49"
   },
   "outputs": [],
   "source": [
    "\n",
    "#jobs[0]"
   ]
  },
  {
   "cell_type": "code",
   "execution_count": 46,
   "metadata": {
    "colab": {},
    "colab_type": "code",
    "id": "4EWrN9qxttdl"
   },
   "outputs": [],
   "source": [
    "# detect cycle\n",
    "# import networkx as nx\n",
    "\n",
    "# edges = [(j0, j1) for j0, job in enumerate(jobs) for j1 in job['requires']]\n",
    "\n",
    "# try:\n",
    "#     while 1:\n",
    "#         # cycle 이 없을 때까지 cycle 의 첫 부분을 끊으면서 출력\n",
    "#         G = nx.DiGraph(edges)\n",
    "#         cycle = nx.find_cycle(G, orientation='original')\n",
    "#         print('순환 발견: ')\n",
    "#         for edge in cycle:\n",
    "#             job0, job1 = jobs[edge[0]], jobs[edge[1]]\n",
    "#             print(f\"-  {job0['code']}({job0['name']}) < {job1['code']}({job1['name']})\")\n",
    "#         edge_to_remove = (cycle[0][0], cycle[0][1])\n",
    "#         edges.remove(edge_to_remove)\n",
    "\n",
    "# except nx.exception.NetworkXNoCycle:\n",
    "#     pass"
   ]
  },
  {
   "cell_type": "code",
   "execution_count": 21,
   "metadata": {
    "colab": {},
    "colab_type": "code",
    "id": "4KxzUPSWttdq"
   },
   "outputs": [],
   "source": [
    "# jobs[78]['requires'].remove(79)\n",
    "# jobs[32]['requires'].remove(33)\n",
    "# jobs[21]['requires'].remove(34)"
   ]
  },
  {
   "cell_type": "code",
   "execution_count": 25,
   "metadata": {
    "colab": {},
    "colab_type": "code",
    "id": "JS76IcZqttdw"
   },
   "outputs": [],
   "source": [
    "#area_types = {\n",
    "#    '오피스': ['A1', 'A2','A3','A4','B1','B2','B3','B4','C1','C2'],\n",
    "#    '코어': ['C3','C4'],\n",
    "#    '휴게실': ['D1','D2'],\n",
    "#    '화장실': ['D3','D4'],\n",
    "#}\n"
   ]
  },
  {
   "cell_type": "code",
   "execution_count": 47,
   "metadata": {
    "colab": {
     "base_uri": "https://localhost:8080/",
     "height": 36
    },
    "colab_type": "code",
    "id": "r1IOmeVcttdy",
    "outputId": "ba19bbe0-3e49-40b4-9f02-42b26ad3a90d"
   },
   "outputs": [
    {
     "ename": "KeyError",
     "evalue": "'철거'",
     "output_type": "error",
     "traceback": [
      "\u001b[1;31m---------------------------------------------------------------------------\u001b[0m",
      "\u001b[1;31mKeyError\u001b[0m                                  Traceback (most recent call last)",
      "\u001b[1;32m<ipython-input-47-6f50fc26cd57>\u001b[0m in \u001b[0;36m<module>\u001b[1;34m\u001b[0m\n\u001b[0;32m      1\u001b[0m \u001b[0mareas\u001b[0m \u001b[1;33m=\u001b[0m \u001b[1;33m[\u001b[0m\u001b[1;33m]\u001b[0m\u001b[1;33m\u001b[0m\u001b[1;33m\u001b[0m\u001b[0m\n\u001b[0;32m      2\u001b[0m \u001b[1;31m# convert job code to job id\u001b[0m\u001b[1;33m\u001b[0m\u001b[1;33m\u001b[0m\u001b[1;33m\u001b[0m\u001b[0m\n\u001b[1;32m----> 3\u001b[1;33m \u001b[0mjob_id_per_area_type\u001b[0m \u001b[1;33m=\u001b[0m \u001b[1;33m{\u001b[0m\u001b[0marea_type\u001b[0m\u001b[1;33m:\u001b[0m \u001b[1;33m[\u001b[0m\u001b[0mcode_to_job_id\u001b[0m\u001b[1;33m[\u001b[0m\u001b[0mcode\u001b[0m\u001b[1;33m]\u001b[0m \u001b[1;32mfor\u001b[0m \u001b[0mcode\u001b[0m \u001b[1;32min\u001b[0m \u001b[0mcodes\u001b[0m\u001b[1;33m]\u001b[0m \u001b[1;32mfor\u001b[0m \u001b[0marea_type\u001b[0m\u001b[1;33m,\u001b[0m \u001b[0mcodes\u001b[0m \u001b[1;32min\u001b[0m \u001b[0mcodes_per_area_type\u001b[0m\u001b[1;33m.\u001b[0m\u001b[0mitems\u001b[0m\u001b[1;33m(\u001b[0m\u001b[1;33m)\u001b[0m\u001b[1;33m}\u001b[0m\u001b[1;33m\u001b[0m\u001b[1;33m\u001b[0m\u001b[0m\n\u001b[0m\u001b[0;32m      4\u001b[0m \u001b[1;32mfor\u001b[0m \u001b[0marea_type\u001b[0m\u001b[1;33m,\u001b[0m \u001b[0marea_names\u001b[0m \u001b[1;32min\u001b[0m \u001b[0marea_types\u001b[0m\u001b[1;33m.\u001b[0m\u001b[0mitems\u001b[0m\u001b[1;33m(\u001b[0m\u001b[1;33m)\u001b[0m\u001b[1;33m:\u001b[0m\u001b[1;33m\u001b[0m\u001b[1;33m\u001b[0m\u001b[0m\n\u001b[0;32m      5\u001b[0m     \u001b[1;32mfor\u001b[0m \u001b[0marea_name\u001b[0m \u001b[1;32min\u001b[0m \u001b[0marea_names\u001b[0m\u001b[1;33m:\u001b[0m\u001b[1;33m\u001b[0m\u001b[1;33m\u001b[0m\u001b[0m\n",
      "\u001b[1;32m<ipython-input-47-6f50fc26cd57>\u001b[0m in \u001b[0;36m<dictcomp>\u001b[1;34m(.0)\u001b[0m\n\u001b[0;32m      1\u001b[0m \u001b[0mareas\u001b[0m \u001b[1;33m=\u001b[0m \u001b[1;33m[\u001b[0m\u001b[1;33m]\u001b[0m\u001b[1;33m\u001b[0m\u001b[1;33m\u001b[0m\u001b[0m\n\u001b[0;32m      2\u001b[0m \u001b[1;31m# convert job code to job id\u001b[0m\u001b[1;33m\u001b[0m\u001b[1;33m\u001b[0m\u001b[1;33m\u001b[0m\u001b[0m\n\u001b[1;32m----> 3\u001b[1;33m \u001b[0mjob_id_per_area_type\u001b[0m \u001b[1;33m=\u001b[0m \u001b[1;33m{\u001b[0m\u001b[0marea_type\u001b[0m\u001b[1;33m:\u001b[0m \u001b[1;33m[\u001b[0m\u001b[0mcode_to_job_id\u001b[0m\u001b[1;33m[\u001b[0m\u001b[0mcode\u001b[0m\u001b[1;33m]\u001b[0m \u001b[1;32mfor\u001b[0m \u001b[0mcode\u001b[0m \u001b[1;32min\u001b[0m \u001b[0mcodes\u001b[0m\u001b[1;33m]\u001b[0m \u001b[1;32mfor\u001b[0m \u001b[0marea_type\u001b[0m\u001b[1;33m,\u001b[0m \u001b[0mcodes\u001b[0m \u001b[1;32min\u001b[0m \u001b[0mcodes_per_area_type\u001b[0m\u001b[1;33m.\u001b[0m\u001b[0mitems\u001b[0m\u001b[1;33m(\u001b[0m\u001b[1;33m)\u001b[0m\u001b[1;33m}\u001b[0m\u001b[1;33m\u001b[0m\u001b[1;33m\u001b[0m\u001b[0m\n\u001b[0m\u001b[0;32m      4\u001b[0m \u001b[1;32mfor\u001b[0m \u001b[0marea_type\u001b[0m\u001b[1;33m,\u001b[0m \u001b[0marea_names\u001b[0m \u001b[1;32min\u001b[0m \u001b[0marea_types\u001b[0m\u001b[1;33m.\u001b[0m\u001b[0mitems\u001b[0m\u001b[1;33m(\u001b[0m\u001b[1;33m)\u001b[0m\u001b[1;33m:\u001b[0m\u001b[1;33m\u001b[0m\u001b[1;33m\u001b[0m\u001b[0m\n\u001b[0;32m      5\u001b[0m     \u001b[1;32mfor\u001b[0m \u001b[0marea_name\u001b[0m \u001b[1;32min\u001b[0m \u001b[0marea_names\u001b[0m\u001b[1;33m:\u001b[0m\u001b[1;33m\u001b[0m\u001b[1;33m\u001b[0m\u001b[0m\n",
      "\u001b[1;32m<ipython-input-47-6f50fc26cd57>\u001b[0m in \u001b[0;36m<listcomp>\u001b[1;34m(.0)\u001b[0m\n\u001b[0;32m      1\u001b[0m \u001b[0mareas\u001b[0m \u001b[1;33m=\u001b[0m \u001b[1;33m[\u001b[0m\u001b[1;33m]\u001b[0m\u001b[1;33m\u001b[0m\u001b[1;33m\u001b[0m\u001b[0m\n\u001b[0;32m      2\u001b[0m \u001b[1;31m# convert job code to job id\u001b[0m\u001b[1;33m\u001b[0m\u001b[1;33m\u001b[0m\u001b[1;33m\u001b[0m\u001b[0m\n\u001b[1;32m----> 3\u001b[1;33m \u001b[0mjob_id_per_area_type\u001b[0m \u001b[1;33m=\u001b[0m \u001b[1;33m{\u001b[0m\u001b[0marea_type\u001b[0m\u001b[1;33m:\u001b[0m \u001b[1;33m[\u001b[0m\u001b[0mcode_to_job_id\u001b[0m\u001b[1;33m[\u001b[0m\u001b[0mcode\u001b[0m\u001b[1;33m]\u001b[0m \u001b[1;32mfor\u001b[0m \u001b[0mcode\u001b[0m \u001b[1;32min\u001b[0m \u001b[0mcodes\u001b[0m\u001b[1;33m]\u001b[0m \u001b[1;32mfor\u001b[0m \u001b[0marea_type\u001b[0m\u001b[1;33m,\u001b[0m \u001b[0mcodes\u001b[0m \u001b[1;32min\u001b[0m \u001b[0mcodes_per_area_type\u001b[0m\u001b[1;33m.\u001b[0m\u001b[0mitems\u001b[0m\u001b[1;33m(\u001b[0m\u001b[1;33m)\u001b[0m\u001b[1;33m}\u001b[0m\u001b[1;33m\u001b[0m\u001b[1;33m\u001b[0m\u001b[0m\n\u001b[0m\u001b[0;32m      4\u001b[0m \u001b[1;32mfor\u001b[0m \u001b[0marea_type\u001b[0m\u001b[1;33m,\u001b[0m \u001b[0marea_names\u001b[0m \u001b[1;32min\u001b[0m \u001b[0marea_types\u001b[0m\u001b[1;33m.\u001b[0m\u001b[0mitems\u001b[0m\u001b[1;33m(\u001b[0m\u001b[1;33m)\u001b[0m\u001b[1;33m:\u001b[0m\u001b[1;33m\u001b[0m\u001b[1;33m\u001b[0m\u001b[0m\n\u001b[0;32m      5\u001b[0m     \u001b[1;32mfor\u001b[0m \u001b[0marea_name\u001b[0m \u001b[1;32min\u001b[0m \u001b[0marea_names\u001b[0m\u001b[1;33m:\u001b[0m\u001b[1;33m\u001b[0m\u001b[1;33m\u001b[0m\u001b[0m\n",
      "\u001b[1;31mKeyError\u001b[0m: '철거'"
     ]
    }
   ],
   "source": [
    "areas = []\n",
    "# convert job code to job id\n",
    "job_id_per_area_type = {area_type: [code_to_job_id[code] for code in codes] for area_type, codes in codes_per_area_type.items()}\n",
    "for area_type, area_names in area_types.items():\n",
    "    for area_name in area_names:\n",
    "        areas.append({\n",
    "            'name': area_name,\n",
    "            'type': area_type,\n",
    "            'jobs': job_id_per_area_type[area_type]\n",
    "        })\n",
    "        \n",
    "jobs_per_area = [\n",
    "    area['jobs']\n",
    "    for area in areas\n",
    "]\n",
    "len(jobs_per_area)"
   ]
  },
  {
   "cell_type": "code",
   "execution_count": 28,
   "metadata": {
    "colab": {
     "base_uri": "https://localhost:8080/",
     "height": 353
    },
    "colab_type": "code",
    "id": "GU4VVJa-ttd4",
    "outputId": "1ca06b8c-197a-4ff3-e07b-33c410cbe20d"
   },
   "outputs": [
    {
     "name": "stdout",
     "output_type": "stream",
     "text": [
      " 0 41 42 43 44 45 46 47 48 49 50  7  8  9 10 11 12 14 15 16 17 18 20 21 22 23 24 25 26 51 52 53 54 33 55 40 35\n",
      " 0 41 42 43 44 45 46 47 48 49 50  7  8  9 10 11 12 14 15 16 17 18 20 21 22 23 24 25 26 51 52 53 54 33 55 40 35\n",
      " 0 41 42 43 44 45 46 47 48 49 50  7  8  9 10 11 12 14 15 16 17 18 20 21 22 23 24 25 26 51 52 53 54 33 55 40 35\n",
      " 0 41 42 43 44 45 46 47 48 49 50  7  8  9 10 11 12 14 15 16 17 18 20 21 22 23 24 25 26 51 52 53 54 33 55 40 35\n",
      " 0 41 42 43 44 45 46 47 48 49 50  7  8  9 10 11 12 14 15 16 17 18 20 21 22 23 24 25 26 51 52 53 54 33 55 40 35\n",
      " 0 41 42 43 44 45 46 47 48 49 50  7  8  9 10 11 12 14 15 16 17 18 20 21 22 23 24 25 26 51 52 53 54 33 55 40 35\n",
      " 0 41 42 43 44 45 46 47 48 49 50  7  8  9 10 11 12 14 15 16 17 18 20 21 22 23 24 25 26 51 52 53 54 33 55 40 35\n",
      " 0 41 42 43 44 45 46 47 48 49 50  7  8  9 10 11 12 14 15 16 17 18 20 21 22 23 24 25 26 51 52 53 54 33 55 40 35\n",
      " 0 41 42 43 44 45 46 47 48 49 50  7  8  9 10 11 12 14 15 16 17 18 20 21 22 23 24 25 26 51 52 53 54 33 55 40 35\n",
      " 0 41 42 43 44 45 46 47 48 49 50  7  8  9 10 11 12 14 15 16 17 18 20 21 22 23 24 25 26 51 52 53 54 33 55 40 35\n",
      " 0  1  2  3  4  5  6  7  8  9 10 11 12 13 14 15 16 17 18 19 20 21 22 23 24 25 26 27 28 29 30 31 32 33 34 35\n",
      " 0  1  2  3  4  5  6  7  8  9 10 11 12 13 14 15 16 17 18 19 20 21 22 23 24 25 26 27 28 29 30 31 32 33 34 35\n",
      " 0 46 47 56 57 48 49 50  7  8  9 10 11 12 58 59 60 61 62 63 64 65 23 24 25 26 66 67 68 69 70 33 71 72 55 40 35\n",
      " 0 46 47 56 57 48 49 50  7  8  9 10 11 12 58 59 60 61 62 63 64 65 23 24 25 26 66 67 68 69 70 33 71 72 55 40 35\n",
      " 0  1  2  3  4  5  6 46 47  7  8  9 73 74 75 76 10 11 17 18 77 78 79 80 81 82 83 35\n",
      " 0  1  2  3  4  5  6 46 47  7  8  9 73 74 75 76 10 11 17 18 77 78 79 80 81 82 83 35\n"
     ]
    }
   ],
   "source": [
    "\n",
    "for ids in jobs_per_area:\n",
    "    print(' '.join(f'{i:2}' for i in ids))"
   ]
  },
  {
   "cell_type": "code",
   "execution_count": 21,
   "metadata": {
    "colab": {},
    "colab_type": "code",
    "id": "VdVx7Y6nttdQ"
   },
   "outputs": [],
   "source": [
    "from ortools.sat.python import cp_model\n",
    "\n",
    "CP_STATUS = {\n",
    "    cp_model.UNKNOWN: 'unknown',\n",
    "    cp_model.MODEL_INVALID: 'model_invalid',\n",
    "    cp_model.FEASIBLE: 'feasible',\n",
    "    cp_model.INFEASIBLE: 'infeasible',\n",
    "    cp_model.OPTIMAL: 'optimal',\n",
    "}"
   ]
  },
  {
   "cell_type": "code",
   "execution_count": 22,
   "metadata": {
    "colab": {},
    "colab_type": "code",
    "id": "HXfl-uLMttd8"
   },
   "outputs": [
    {
     "data": {
      "text/plain": [
       "'09-04-2021'"
      ]
     },
     "execution_count": 22,
     "metadata": {},
     "output_type": "execute_result"
    }
   ],
   "source": [
    "import datetime\n",
    "\n",
    "# gantt chart 라이브러리 dhtmlx에서 쓰이는 날짜 방식\n",
    "def format_date(d: datetime.datetime):\n",
    "    return d.strftime('%d-%m-%Y')\n",
    "format_date(datetime.datetime.now())"
   ]
  },
  {
   "cell_type": "code",
   "execution_count": 23,
   "metadata": {},
   "outputs": [
    {
     "data": {
      "text/plain": [
       "'{\"d\": \"@@new Date(2021, 04, 09)@@\"}'"
      ]
     },
     "execution_count": 23,
     "metadata": {},
     "output_type": "execute_result"
    }
   ],
   "source": [
    "import json\n",
    "\n",
    "# json dump할 때 date 객체를 js Date객체로 바꿔주는 인코더\n",
    "class DateJSONEncoder(json.JSONEncoder):\n",
    "    def default(self, obj):\n",
    "        if isinstance(obj, datetime.date):\n",
    "            return obj.strftime('@@new Date(%Y, %m, %d)@@')\n",
    "        else:\n",
    "            return super(DateJSONEncoder, self).default(obj)\n",
    "\n",
    "json.dumps({'d': datetime.date.today()}, cls=DateJSONEncoder)"
   ]
  },
  {
   "cell_type": "code",
   "execution_count": 24,
   "metadata": {
    "colab": {
     "base_uri": "https://localhost:8080/",
     "height": 55
    },
    "colab_type": "code",
    "id": "28Q3bwrDttd-",
    "outputId": "9aff8b91-8e54-49b7-a81a-4a179292039d",
    "scrolled": true
   },
   "outputs": [
    {
     "ename": "NameError",
     "evalue": "name 'jobs' is not defined",
     "output_type": "error",
     "traceback": [
      "\u001b[1;31m---------------------------------------------------------------------------\u001b[0m",
      "\u001b[1;31mNameError\u001b[0m                                 Traceback (most recent call last)",
      "\u001b[1;32m<ipython-input-24-f0dc2f7e36ee>\u001b[0m in \u001b[0;36m<module>\u001b[1;34m\u001b[0m\n\u001b[0;32m      4\u001b[0m \u001b[1;33m\u001b[0m\u001b[0m\n\u001b[0;32m      5\u001b[0m \u001b[1;33m\u001b[0m\u001b[0m\n\u001b[1;32m----> 6\u001b[1;33m \u001b[0mjobs_count\u001b[0m \u001b[1;33m=\u001b[0m \u001b[0mlen\u001b[0m\u001b[1;33m(\u001b[0m\u001b[0mjobs\u001b[0m\u001b[1;33m)\u001b[0m\u001b[1;33m\u001b[0m\u001b[1;33m\u001b[0m\u001b[0m\n\u001b[0m\u001b[0;32m      7\u001b[0m \u001b[0marea_count\u001b[0m \u001b[1;33m=\u001b[0m \u001b[0mlen\u001b[0m\u001b[1;33m(\u001b[0m\u001b[0mjobs_per_area\u001b[0m\u001b[1;33m)\u001b[0m\u001b[1;33m\u001b[0m\u001b[1;33m\u001b[0m\u001b[0m\n\u001b[0;32m      8\u001b[0m \u001b[1;33m\u001b[0m\u001b[0m\n",
      "\u001b[1;31mNameError\u001b[0m: name 'jobs' is not defined"
     ]
    }
   ],
   "source": [
    "import math\n",
    "\n",
    "model = cp_model.CpModel()\n",
    "\n",
    "\n",
    "jobs_count = len(jobs)\n",
    "area_count = len(jobs_per_area)\n",
    "\n",
    "start_date_constraints = []\n",
    "\n",
    "horizon = 120\n",
    "objective_makespan = 0  # stops after hitting this goal\n",
    "\n",
    "# Create variables\n",
    "T = {\n",
    "    (j, s): model.NewIntVar(0, horizon, f'T({j}, {s})')\n",
    "        for s in range(area_count) for j in jobs_per_area[s] \n",
    "}\n",
    "\n",
    "Start = {\n",
    "    j: model.NewIntVar(0, horizon, f'Start({j})') for j in range(jobs_count)\n",
    "}\n",
    "\n",
    "# set user-defined additinoal constraints\n",
    "if start_date_constraints:\n",
    "    for j, start_date_offset in start_date_constraints.items():\n",
    "        model.Add(Start[j] >= start_date_offset)\n"
   ]
  },
  {
   "cell_type": "code",
   "execution_count": 33,
   "metadata": {},
   "outputs": [],
   "source": [
    "        \n",
    "# set time limits per jobs\n",
    "total_workarea = {\n",
    "    j: sum(j == j_ for js in jobs_per_area for j_ in js) for j in range(jobs_count)\n",
    "}\n",
    "timelimit = {\n",
    "    j: math.ceil(total_workarea[j] / job['productivity']) for j, job in enumerate(jobs)\n",
    "}\n",
    "\n",
    "# Create derived variables for calculation.\n",
    "x = {\n",
    "    # !! DIFFERENT definition than above\n",
    "    # x[t, j, s] == True iff t == T[j, s] + start[j]\n",
    "    (t, j, s): model.NewBoolVar(f'x({t}, {j}, {s}')\n",
    "        for s in range(area_count) for j in jobs_per_area[s] for t in range(timelimit[j])\n",
    "}\n",
    "for s in range(area_count):\n",
    "    for j in jobs_per_area[s]:\n",
    "        for t in range(timelimit[j]):\n",
    "            model.Add(T[j,s] == t + Start[j]).OnlyEnforceIf(x[t, j, s])\n",
    "            model.Add(T[j,s] != t + Start[j]).OnlyEnforceIf(x[t, j, s].Not())\n"
   ]
  },
  {
   "cell_type": "code",
   "execution_count": 34,
   "metadata": {},
   "outputs": [],
   "source": [
    "\n",
    "# define workload variable. productivity is set here.\n",
    "Workload = {\n",
    "    (j, t): model.NewIntVar(1, job['productivity'], f'Workload({j}, {t})')\n",
    "        for j, job in enumerate(jobs) for t in range(timelimit[j])\n",
    "}\n",
    "\n",
    "# define relationship between Workload and x\n",
    "for j in range(jobs_count):\n",
    "    for t in range(timelimit[j]):\n",
    "        model.Add(sum(x[t, j, s] for s in range(area_count) if j in jobs_per_area[s]) == Workload[j, t])\n",
    "\n",
    "\n"
   ]
  },
  {
   "cell_type": "code",
   "execution_count": 35,
   "metadata": {},
   "outputs": [],
   "source": [
    "\n",
    "# Total workarea constraint for workload\n",
    "for j in range(jobs_count):\n",
    "    model.Add(sum(Workload[j, t] for t in range(timelimit[j])) == total_workarea[j])\n",
    "\n",
    "\n",
    "# Create Precedency Constraints\n",
    "for s in range(area_count):\n",
    "    for j in jobs_per_area[s]:\n",
    "        job = jobs[j]\n",
    "        for require in job['requires']:\n",
    "            if require not in jobs_per_area[s]:\n",
    "                # skip if precendecy is not worked on this area\n",
    "                continue\n",
    "            model.Add(T[require, s] < T[j, s])\n"
   ]
  },
  {
   "cell_type": "code",
   "execution_count": 36,
   "metadata": {},
   "outputs": [],
   "source": [
    "\n",
    "# Create immediate precedency constraint\n",
    "for s in range(area_count):\n",
    "    for j in jobs_per_area[s]:\n",
    "        job = jobs[j]\n",
    "        preceeding_job = job.get('follows')\n",
    "        if not preceeding_job or preceeding_job not in jobs_per_area[s]:\n",
    "            continue\n",
    "        model.Add(T[preceeding_job, s] + 1 == T[j, s])\n",
    "\n",
    "# No two jobs done at the same time at the same place\n",
    "for s in range(area_count):\n",
    "    model.AddAllDifferent([T[j, s] for j in jobs_per_area[s]])\n"
   ]
  },
  {
   "cell_type": "code",
   "execution_count": 37,
   "metadata": {},
   "outputs": [
    {
     "name": "stdout",
     "output_type": "stream",
     "text": [
      "solver status: infeasible\n",
      "Took 0.790071 seconds\n"
     ]
    }
   ],
   "source": [
    "\n",
    "# Makespan objective.\n",
    "makespan = model.NewIntVar(0, horizon, 'makespan')\n",
    "model.AddMaxEquality(makespan, [T[j, s] for s in range(area_count) for j in jobs_per_area[s]])\n",
    "model.Minimize(makespan)\n",
    "\n",
    "# Register solution callback for early stopping\n",
    "class SolutionCallback(cp_model.CpSolverSolutionCallback):\n",
    "    \"\"\"Print intermediate solutions.\"\"\"\n",
    "\n",
    "    def __init__(self, objective):\n",
    "        cp_model.CpSolverSolutionCallback.__init__(self)\n",
    "        self.__objective = objective\n",
    "\n",
    "    def on_solution_callback(self):\n",
    "        current_makespan = self.Value(self.__objective) + 1\n",
    "        print(f'Current makespan: {current_makespan}')\n",
    "        if objective_makespan and current_makespan <= objective_makespan:\n",
    "            self.StopSearch()\n",
    "\n",
    "\n",
    "# Solve model.\n",
    "#started_at = datetime.datetime.now()\n",
    "#solver = cp_model.CpSolver()\n",
    "status = solver.SolveWithSolutionCallback(model, SolutionCallback(makespan))\n",
    "ended_at = datetime.datetime.now()\n",
    "took_seconds = (ended_at - started_at).total_seconds()\n",
    "print(f'solver status: {CP_STATUS[status]}')\n",
    "print(f'Took {took_seconds} seconds')\n",
    "\n",
    "optimal_makespan = int(solver.ObjectiveValue()) + 1\n",
    "if status == cp_model.OPTIMAL:\n",
    "    print(f'Optimal makespan: {optimal_makespan}')"
   ]
  },
  {
   "cell_type": "code",
   "execution_count": 51,
   "metadata": {},
   "outputs": [
    {
     "name": "stdout",
     "output_type": "stream",
     "text": [
      "solver status: infeasible\n",
      "Took 0.565328 seconds\n"
     ]
    },
    {
     "ename": "IndexError",
     "evalue": "list index out of range",
     "output_type": "error",
     "traceback": [
      "\u001b[1;31m---------------------------------------------------------------------------\u001b[0m",
      "\u001b[1;31mIndexError\u001b[0m                                Traceback (most recent call last)",
      "\u001b[1;32m<ipython-input-51-afadb1b2e747>\u001b[0m in \u001b[0;36m<module>\u001b[1;34m\u001b[0m\n\u001b[0;32m     24\u001b[0m }\n\u001b[0;32m     25\u001b[0m \u001b[1;32mfor\u001b[0m \u001b[0mj\u001b[0m\u001b[1;33m,\u001b[0m \u001b[0mjob\u001b[0m \u001b[1;32min\u001b[0m \u001b[0menumerate\u001b[0m\u001b[1;33m(\u001b[0m\u001b[0mjobs\u001b[0m\u001b[1;33m)\u001b[0m\u001b[1;33m:\u001b[0m\u001b[1;33m\u001b[0m\u001b[1;33m\u001b[0m\u001b[0m\n\u001b[1;32m---> 26\u001b[1;33m     \u001b[0mts\u001b[0m \u001b[1;33m=\u001b[0m \u001b[1;33m[\u001b[0m\u001b[0mt\u001b[0m \u001b[1;32mfor\u001b[0m \u001b[0ms\u001b[0m\u001b[1;33m,\u001b[0m \u001b[0marea\u001b[0m \u001b[1;32min\u001b[0m \u001b[0menumerate\u001b[0m\u001b[1;33m(\u001b[0m\u001b[0mareas\u001b[0m\u001b[1;33m)\u001b[0m \u001b[1;32mfor\u001b[0m \u001b[0mt\u001b[0m \u001b[1;32min\u001b[0m \u001b[0mrange\u001b[0m\u001b[1;33m(\u001b[0m\u001b[0moptimal_makespan\u001b[0m\u001b[1;33m)\u001b[0m \u001b[1;32mif\u001b[0m \u001b[0mj\u001b[0m \u001b[1;32min\u001b[0m \u001b[0mjobs_per_area\u001b[0m\u001b[1;33m[\u001b[0m\u001b[0ms\u001b[0m\u001b[1;33m]\u001b[0m \u001b[1;32mand\u001b[0m \u001b[0msolver\u001b[0m\u001b[1;33m.\u001b[0m\u001b[0mValue\u001b[0m\u001b[1;33m(\u001b[0m\u001b[0mT\u001b[0m\u001b[1;33m[\u001b[0m\u001b[0mj\u001b[0m\u001b[1;33m,\u001b[0m \u001b[0ms\u001b[0m\u001b[1;33m]\u001b[0m\u001b[1;33m)\u001b[0m \u001b[1;33m==\u001b[0m \u001b[0mt\u001b[0m\u001b[1;33m]\u001b[0m\u001b[1;33m\u001b[0m\u001b[1;33m\u001b[0m\u001b[0m\n\u001b[0m\u001b[0;32m     27\u001b[0m     \u001b[0mduration\u001b[0m \u001b[1;33m=\u001b[0m \u001b[0mmax\u001b[0m\u001b[1;33m(\u001b[0m\u001b[0mts\u001b[0m\u001b[1;33m)\u001b[0m \u001b[1;33m-\u001b[0m \u001b[0mmin\u001b[0m\u001b[1;33m(\u001b[0m\u001b[0mts\u001b[0m\u001b[1;33m)\u001b[0m \u001b[1;33m+\u001b[0m \u001b[1;36m1\u001b[0m\u001b[1;33m\u001b[0m\u001b[1;33m\u001b[0m\u001b[0m\n\u001b[0;32m     28\u001b[0m     gantt_list.append({\n",
      "\u001b[1;32m<ipython-input-51-afadb1b2e747>\u001b[0m in \u001b[0;36m<listcomp>\u001b[1;34m(.0)\u001b[0m\n\u001b[0;32m     24\u001b[0m }\n\u001b[0;32m     25\u001b[0m \u001b[1;32mfor\u001b[0m \u001b[0mj\u001b[0m\u001b[1;33m,\u001b[0m \u001b[0mjob\u001b[0m \u001b[1;32min\u001b[0m \u001b[0menumerate\u001b[0m\u001b[1;33m(\u001b[0m\u001b[0mjobs\u001b[0m\u001b[1;33m)\u001b[0m\u001b[1;33m:\u001b[0m\u001b[1;33m\u001b[0m\u001b[1;33m\u001b[0m\u001b[0m\n\u001b[1;32m---> 26\u001b[1;33m     \u001b[0mts\u001b[0m \u001b[1;33m=\u001b[0m \u001b[1;33m[\u001b[0m\u001b[0mt\u001b[0m \u001b[1;32mfor\u001b[0m \u001b[0ms\u001b[0m\u001b[1;33m,\u001b[0m \u001b[0marea\u001b[0m \u001b[1;32min\u001b[0m \u001b[0menumerate\u001b[0m\u001b[1;33m(\u001b[0m\u001b[0mareas\u001b[0m\u001b[1;33m)\u001b[0m \u001b[1;32mfor\u001b[0m \u001b[0mt\u001b[0m \u001b[1;32min\u001b[0m \u001b[0mrange\u001b[0m\u001b[1;33m(\u001b[0m\u001b[0moptimal_makespan\u001b[0m\u001b[1;33m)\u001b[0m \u001b[1;32mif\u001b[0m \u001b[0mj\u001b[0m \u001b[1;32min\u001b[0m \u001b[0mjobs_per_area\u001b[0m\u001b[1;33m[\u001b[0m\u001b[0ms\u001b[0m\u001b[1;33m]\u001b[0m \u001b[1;32mand\u001b[0m \u001b[0msolver\u001b[0m\u001b[1;33m.\u001b[0m\u001b[0mValue\u001b[0m\u001b[1;33m(\u001b[0m\u001b[0mT\u001b[0m\u001b[1;33m[\u001b[0m\u001b[0mj\u001b[0m\u001b[1;33m,\u001b[0m \u001b[0ms\u001b[0m\u001b[1;33m]\u001b[0m\u001b[1;33m)\u001b[0m \u001b[1;33m==\u001b[0m \u001b[0mt\u001b[0m\u001b[1;33m]\u001b[0m\u001b[1;33m\u001b[0m\u001b[1;33m\u001b[0m\u001b[0m\n\u001b[0m\u001b[0;32m     27\u001b[0m     \u001b[0mduration\u001b[0m \u001b[1;33m=\u001b[0m \u001b[0mmax\u001b[0m\u001b[1;33m(\u001b[0m\u001b[0mts\u001b[0m\u001b[1;33m)\u001b[0m \u001b[1;33m-\u001b[0m \u001b[0mmin\u001b[0m\u001b[1;33m(\u001b[0m\u001b[0mts\u001b[0m\u001b[1;33m)\u001b[0m \u001b[1;33m+\u001b[0m \u001b[1;36m1\u001b[0m\u001b[1;33m\u001b[0m\u001b[1;33m\u001b[0m\u001b[0m\n\u001b[0;32m     28\u001b[0m     gantt_list.append({\n",
      "\u001b[1;32m~\\anaconda3\\lib\\site-packages\\ortools\\sat\\python\\cp_model.py\u001b[0m in \u001b[0;36mValue\u001b[1;34m(self, expression)\u001b[0m\n\u001b[0;32m   1631\u001b[0m         \u001b[1;32mif\u001b[0m \u001b[1;32mnot\u001b[0m \u001b[0mself\u001b[0m\u001b[1;33m.\u001b[0m\u001b[0m__solution\u001b[0m\u001b[1;33m:\u001b[0m\u001b[1;33m\u001b[0m\u001b[1;33m\u001b[0m\u001b[0m\n\u001b[0;32m   1632\u001b[0m             \u001b[1;32mraise\u001b[0m \u001b[0mRuntimeError\u001b[0m\u001b[1;33m(\u001b[0m\u001b[1;34m'Solve() has not be called.'\u001b[0m\u001b[1;33m)\u001b[0m\u001b[1;33m\u001b[0m\u001b[1;33m\u001b[0m\u001b[0m\n\u001b[1;32m-> 1633\u001b[1;33m         \u001b[1;32mreturn\u001b[0m \u001b[0mEvaluateLinearExpr\u001b[0m\u001b[1;33m(\u001b[0m\u001b[0mexpression\u001b[0m\u001b[1;33m,\u001b[0m \u001b[0mself\u001b[0m\u001b[1;33m.\u001b[0m\u001b[0m__solution\u001b[0m\u001b[1;33m)\u001b[0m\u001b[1;33m\u001b[0m\u001b[1;33m\u001b[0m\u001b[0m\n\u001b[0m\u001b[0;32m   1634\u001b[0m \u001b[1;33m\u001b[0m\u001b[0m\n\u001b[0;32m   1635\u001b[0m     \u001b[1;32mdef\u001b[0m \u001b[0mBooleanValue\u001b[0m\u001b[1;33m(\u001b[0m\u001b[0mself\u001b[0m\u001b[1;33m,\u001b[0m \u001b[0mliteral\u001b[0m\u001b[1;33m)\u001b[0m\u001b[1;33m:\u001b[0m\u001b[1;33m\u001b[0m\u001b[1;33m\u001b[0m\u001b[0m\n",
      "\u001b[1;32m~\\anaconda3\\lib\\site-packages\\ortools\\sat\\python\\cp_model.py\u001b[0m in \u001b[0;36mEvaluateLinearExpr\u001b[1;34m(expression, solution)\u001b[0m\n\u001b[0;32m   1544\u001b[0m             \u001b[0mvalue\u001b[0m \u001b[1;33m+=\u001b[0m \u001b[0mexpr\u001b[0m\u001b[1;33m.\u001b[0m\u001b[0mConstant\u001b[0m\u001b[1;33m(\u001b[0m\u001b[1;33m)\u001b[0m \u001b[1;33m*\u001b[0m \u001b[0mcoef\u001b[0m\u001b[1;33m\u001b[0m\u001b[1;33m\u001b[0m\u001b[0m\n\u001b[0;32m   1545\u001b[0m         \u001b[1;32melif\u001b[0m \u001b[0misinstance\u001b[0m\u001b[1;33m(\u001b[0m\u001b[0mexpr\u001b[0m\u001b[1;33m,\u001b[0m \u001b[0mIntVar\u001b[0m\u001b[1;33m)\u001b[0m\u001b[1;33m:\u001b[0m\u001b[1;33m\u001b[0m\u001b[1;33m\u001b[0m\u001b[0m\n\u001b[1;32m-> 1546\u001b[1;33m             \u001b[0mvalue\u001b[0m \u001b[1;33m+=\u001b[0m \u001b[0mcoef\u001b[0m \u001b[1;33m*\u001b[0m \u001b[0msolution\u001b[0m\u001b[1;33m.\u001b[0m\u001b[0msolution\u001b[0m\u001b[1;33m[\u001b[0m\u001b[0mexpr\u001b[0m\u001b[1;33m.\u001b[0m\u001b[0mIndex\u001b[0m\u001b[1;33m(\u001b[0m\u001b[1;33m)\u001b[0m\u001b[1;33m]\u001b[0m\u001b[1;33m\u001b[0m\u001b[1;33m\u001b[0m\u001b[0m\n\u001b[0m\u001b[0;32m   1547\u001b[0m         \u001b[1;32melif\u001b[0m \u001b[0misinstance\u001b[0m\u001b[1;33m(\u001b[0m\u001b[0mexpr\u001b[0m\u001b[1;33m,\u001b[0m \u001b[0m_NotBooleanVariable\u001b[0m\u001b[1;33m)\u001b[0m\u001b[1;33m:\u001b[0m\u001b[1;33m\u001b[0m\u001b[1;33m\u001b[0m\u001b[0m\n\u001b[0;32m   1548\u001b[0m             \u001b[0mvalue\u001b[0m \u001b[1;33m+=\u001b[0m \u001b[0mcoef\u001b[0m \u001b[1;33m*\u001b[0m \u001b[1;33m(\u001b[0m\u001b[1;36m1\u001b[0m \u001b[1;33m-\u001b[0m \u001b[0msolution\u001b[0m\u001b[1;33m.\u001b[0m\u001b[0msolution\u001b[0m\u001b[1;33m[\u001b[0m\u001b[0mexpr\u001b[0m\u001b[1;33m.\u001b[0m\u001b[0mNot\u001b[0m\u001b[1;33m(\u001b[0m\u001b[1;33m)\u001b[0m\u001b[1;33m.\u001b[0m\u001b[0mIndex\u001b[0m\u001b[1;33m(\u001b[0m\u001b[1;33m)\u001b[0m\u001b[1;33m]\u001b[0m\u001b[1;33m)\u001b[0m\u001b[1;33m\u001b[0m\u001b[1;33m\u001b[0m\u001b[0m\n",
      "\u001b[1;32m~\\anaconda3\\lib\\site-packages\\google\\protobuf\\internal\\containers.py\u001b[0m in \u001b[0;36m__getitem__\u001b[1;34m(self, key)\u001b[0m\n\u001b[0;32m    207\u001b[0m   \u001b[1;32mdef\u001b[0m \u001b[0m__getitem__\u001b[0m\u001b[1;33m(\u001b[0m\u001b[0mself\u001b[0m\u001b[1;33m,\u001b[0m \u001b[0mkey\u001b[0m\u001b[1;33m)\u001b[0m\u001b[1;33m:\u001b[0m\u001b[1;33m\u001b[0m\u001b[1;33m\u001b[0m\u001b[0m\n\u001b[0;32m    208\u001b[0m     \u001b[1;34m\"\"\"Retrieves item by the specified key.\"\"\"\u001b[0m\u001b[1;33m\u001b[0m\u001b[1;33m\u001b[0m\u001b[0m\n\u001b[1;32m--> 209\u001b[1;33m     \u001b[1;32mreturn\u001b[0m \u001b[0mself\u001b[0m\u001b[1;33m.\u001b[0m\u001b[0m_values\u001b[0m\u001b[1;33m[\u001b[0m\u001b[0mkey\u001b[0m\u001b[1;33m]\u001b[0m\u001b[1;33m\u001b[0m\u001b[1;33m\u001b[0m\u001b[0m\n\u001b[0m\u001b[0;32m    210\u001b[0m \u001b[1;33m\u001b[0m\u001b[0m\n\u001b[0;32m    211\u001b[0m   \u001b[1;32mdef\u001b[0m \u001b[0m__len__\u001b[0m\u001b[1;33m(\u001b[0m\u001b[0mself\u001b[0m\u001b[1;33m)\u001b[0m\u001b[1;33m:\u001b[0m\u001b[1;33m\u001b[0m\u001b[1;33m\u001b[0m\u001b[0m\n",
      "\u001b[1;31mIndexError\u001b[0m: list index out of range"
     ]
    }
   ],
   "source": [
    "# Solve model.\n",
    "started_at = datetime.datetime.now()\n",
    "solver = cp_model.CpSolver()\n",
    "status = solver.SolveWithSolutionCallback(model, SolutionCallback(makespan))\n",
    "ended_at = datetime.datetime.now()\n",
    "took_seconds = (ended_at - started_at).total_seconds()\n",
    "print(f'solver status: {CP_STATUS[status]}')\n",
    "print(f'Took {took_seconds} seconds')\n",
    "\n",
    "optimal_makespan = int(solver.ObjectiveValue()) + 1\n",
    "if status == cp_model.OPTIMAL:\n",
    "    print(f'Optimal makespan: {optimal_makespan}')\n",
    "\n",
    "import json\n",
    "\n",
    "\n",
    "today = datetime.date.today()\n",
    "day = datetime.timedelta(days=1)\n",
    "gantt_list = []\n",
    "gantt_links = []\n",
    "gantt_data = {\n",
    "    'data': gantt_list,\n",
    "    'links': gantt_links,\n",
    "}\n",
    "for j, job in enumerate(jobs):\n",
    "    ts = [t for s, area in enumerate(areas) for t in range(optimal_makespan) if j in jobs_per_area[s] and solver.Value(T[j, s]) == t]\n",
    "    duration = max(ts) - min(ts) + 1\n",
    "    gantt_list.append({\n",
    "        \"job_id\": j,\n",
    "        \"text\": job['name'],\n",
    "        \"start_date\": format_date(today + day * min(ts)),\n",
    "        \"start_date_obj\": today + day * min(ts),\n",
    "        \"duration\": duration,\n",
    "        \"progress\": 1,\n",
    "        \"open\": True,\n",
    "    })\n",
    "\n",
    "gantt_list.sort(key=lambda x: x['start_date_obj'])\n",
    "for i, x in enumerate(gantt_list):\n",
    "    gantt_list[i]['id'] = i+1\n",
    "    del gantt_list[i]['start_date_obj']\n",
    "\n",
    "# Data for google chart\n",
    "google_chart_rows = []\n",
    "for s, area in enumerate(areas):\n",
    "    for j in jobs_per_area[s]:\n",
    "        job = jobs[j]\n",
    "        for t in range(optimal_makespan):\n",
    "            if solver.Value(T[j, s]) == t:\n",
    "                google_chart_rows.append(\n",
    "                    [area['name'], job['name'], today + day * t, today + day * (t+1)],\n",
    "                )\n",
    "\n",
    "with open('mytestdata.js', 'w+') as f:\n",
    "    f.write(f'var projects_with_milestones = {json.dumps(gantt_data, ensure_ascii=False)};\\n')\n",
    "    google_chart_rows_str = json.dumps(google_chart_rows, ensure_ascii=False, cls=DateJSONEncoder).replace('\"@@', '').replace('@@\"', '')\n",
    "    f.write(f'var google_chart_rows = {google_chart_rows_str};\\n')"
   ]
  },
  {
   "cell_type": "code",
   "execution_count": 50,
   "metadata": {},
   "outputs": [
    {
     "data": {
      "text/plain": [
       "15"
      ]
     },
     "execution_count": 50,
     "metadata": {},
     "output_type": "execute_result"
    }
   ],
   "source": [
    "s"
   ]
  },
  {
   "cell_type": "code",
   "execution_count": null,
   "metadata": {
    "colab": {},
    "colab_type": "code",
    "id": "3kgSJ8zDtteA"
   },
   "outputs": [],
   "source": [
    "ended = datetime.datetime.now()"
   ]
  },
  {
   "cell_type": "code",
   "execution_count": null,
   "metadata": {
    "colab": {
     "base_uri": "https://localhost:8080/",
     "height": 36
    },
    "colab_type": "code",
    "id": "50i2JzCytteC",
    "outputId": "88034585-ceb9-4400-9152-9c2997689aca"
   },
   "outputs": [],
   "source": [
    "ended - started"
   ]
  },
  {
   "cell_type": "code",
   "execution_count": null,
   "metadata": {
    "colab": {
     "base_uri": "https://localhost:8080/",
     "height": 353
    },
    "colab_type": "code",
    "id": "zJl5n9CAtteE",
    "outputId": "03351ddf-b917-4428-e6e5-50674b81ab5a"
   },
   "outputs": [],
   "source": [
    "for s in range(area_count):\n",
    "    print(f'Area {s}: ', end='')\n",
    "    for t in range(optimal_makespan):\n",
    "        for j in jobs_per_area[s]:\n",
    "            job = jobs[j]\n",
    "            if solver.Value(T[j, s]) == t:\n",
    "#                 print(f'- {job[\"name\"]:3} ', end='')\n",
    "                print(f'{j:2} ', end='')\n",
    "                break\n",
    "        else:\n",
    "            print(f'  ', end='')\n",
    "    print('')"
   ]
  },
  {
   "cell_type": "code",
   "execution_count": null,
   "metadata": {
    "colab": {},
    "colab_type": "code",
    "id": "DvbXA5PGtteH"
   },
   "outputs": [],
   "source": [
    "import xlwt\n",
    "\n",
    "book = xlwt.Workbook()\n",
    "sheet1 = book.add_sheet('Sheet 1')\n",
    "\n",
    "\n",
    "for t in range(optimal_makespan):\n",
    "    sheet1.write(0, t + 1, f'Day {t}')\n",
    "for s, area in enumerate(areas):\n",
    "    sheet1.write(s + 1, 0, area['name'])\n",
    "    for t in range(optimal_makespan):\n",
    "        for j in jobs_per_area[s]:\n",
    "            job = jobs[j]\n",
    "            if solver.Value(T[j, s]) == t:\n",
    "                st = xlwt.easyxf('pattern: pattern solid;')\n",
    "                st.pattern.pattern_fore_colour = j + 2  # because 0 is black and 1 is white\n",
    "                sheet1.write(s + 1, t + 1, job[\"name\"], st)\n",
    "                break\n",
    "book.save('result.xls')"
   ]
  },
  {
   "cell_type": "code",
   "execution_count": null,
   "metadata": {
    "colab": {},
    "colab_type": "code",
    "id": "HMSJLXRdtteJ"
   },
   "outputs": [],
   "source": []
  }
 ],
 "metadata": {
  "colab": {
   "name": "건설공정네비게이터.ipynb",
   "provenance": [],
   "toc_visible": true
  },
  "kernelspec": {
   "display_name": "Python 3",
   "language": "python",
   "name": "python3"
  },
  "language_info": {
   "codemirror_mode": {
    "name": "ipython",
    "version": 3
   },
   "file_extension": ".py",
   "mimetype": "text/x-python",
   "name": "python",
   "nbconvert_exporter": "python",
   "pygments_lexer": "ipython3",
   "version": "3.8.3"
  }
 },
 "nbformat": 4,
 "nbformat_minor": 1
}
