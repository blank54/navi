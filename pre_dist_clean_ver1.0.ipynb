{
 "cells": [
  {
   "cell_type": "markdown",
   "metadata": {},
   "source": [
    "# predecessor_dist"
   ]
  },
  {
   "cell_type": "code",
   "execution_count": 44,
   "metadata": {},
   "outputs": [],
   "source": [
    "#Class Project는 불변\n",
    "#Class Schedule은 변경"
   ]
  },
  {
   "cell_type": "code",
   "execution_count": 9,
   "metadata": {},
   "outputs": [],
   "source": [
    "import os\n",
    "import sys\n",
    "import itertools\n",
    "import pickle as pk\n",
    "import pandas as pd\n",
    "from copy import deepcopy\n",
    "from collections import defaultdict\n",
    "from collections import defaultdict, Counter\n",
    "from object import  Activity, Grid, Project\n",
    "from naviutil import NaviPath, NaviFunc, NaviIO\n",
    "navipath = NaviPath()\n",
    "navifunc = NaviFunc()\n",
    "naviio = NaviIO()"
   ]
  },
  {
   "cell_type": "code",
   "execution_count": 10,
   "metadata": {},
   "outputs": [],
   "source": [
    "import pandas as pd\n",
    "from naviutil import NaviPath\n",
    "navipath = NaviPath()\n",
    "\n",
    "activity_pre_dist = pd.read_excel(navipath.activity_pre_dist)\n"
   ]
  },
  {
   "cell_type": "markdown",
   "metadata": {},
   "source": [
    "### loading activity dist template and making dic"
   ]
  },
  {
   "cell_type": "code",
   "execution_count": 11,
   "metadata": {},
   "outputs": [
    {
     "name": "stdout",
     "output_type": "stream",
     "text": [
      "{'M00009': 10, 'M00001': 0, 'M00007': 0, 'T10010': 3, 'T10020': 3, 'T10030': 3, 'T10040': 3, 'T10050': 3, 'T10060': 3, 'T10070': 3, 'T10080': 3, 'T10090': 3, 'T30010': 1, 'T30020': 1, 'T30030': 1, 'T30031': 1, 'T30032': 1, 'T30033': 1, 'T30034': 1, 'T30035': 1, 'T30036': 1, 'T30040': 1, 'T30050': 1, 'T32010': 1, 'T32020': 1, 'T35010': 1, 'T35020': 1, 'T35030': 1, 'T35031': 1, 'T35032': 1, 'T35033': 1, 'T35034': 1, 'T35035': 1, 'T35036': 1, 'T35040': 1, 'T35050': 1, 'T37010': 1, 'W10010': 5, 'W10020': 3, 'W10030': 2, 'W10040': 1, 'W10050': 1, 'W10060': 1, 'W10070': 1, 'W11010': 5, 'W11020': 1, 'W11030': 1, 'W11040': 1, 'D10010': 2, 'D10020': 0, 'D10030': 0, 'D11010': 3, 'D12010': 3, 'D12020': 3, 'R10010': 5, 'R10020': 3, 'R11010': 3, 'R11020': 3, 'R11030': 3, 'R12010': 5, 'R12020': 1, 'F20010': 2, 'F20020': 3, 'F20030': 2, 'F20040': 2, 'F20050': 3, 'F20051': 0, 'F20060': 2, 'F20070': 3, 'S10010': 3, 'S10020': 2, 'S10030': 1, 'S10040': 2, 'S10050': 3, 'S10060': 3, 'S10061': 0, 'S10070': 3, 'S11010': 2, 'S11020': 2, 'S11030': 1, 'S11040': 3, 'S11050': 3, 'S11051': 0, 'S11060': 3, 'A41510': 3, 'A44510': 3, 'A44520': 3, 'A44521': 3, 'A45010': 3, 'A45011': 3, 'A45012': 3, 'A48510': 3, 'A48520': 3, 'A48530': 3, 'A50510': 3, 'A50520': 3, 'A51010': 3, 'A52010': 3, 'A53010': 3, 'A53020': 3, 'A55010': 3, 'A57510': 3, 'A57520': 3, 'A57530': 3, 'A58010': 3, 'A59010': 3, 'A59020': 3, 'A59030': 3, 'A59510': 3, 'A60510': 3, 'A60520': 3, 'A60530': 3, 'A61010': 3, 'A61020': 3, 'A62510': 3, 'A64010': 3, 'A60020': 3, 'A67010': 3, 'A41810': 3, 'A43010': 3, 'A43020': 3, 'A43021': 3, 'A43022': 3, 'A45510': 3, 'A45520': 3, 'A61510': 3, 'A61520': 3, 'A61530': 3, 'A61540': 3, 'A66510': 3, 'A46010': 3, 'A46020': 3, 'A53510': 3, 'A53520': 3, 'A54510': 3, 'A54520': 3, 'A54530': 3, 'A62010': 3, 'A62020': 3, 'A62030': 3, 'A62040': 3, 'A62050': 3, 'A63010': 3, 'A63020': 3, 'A49510': 3, 'A49520': 3, 'A49530': 3, 'A49540': 3, 'A56510': 3, 'A56520': 3, 'A57010': 3, 'A60010': 3, 'A60710': 3, 'A60720': 3, 'A66010': 3, 'A52510': 3, 'A52520': 3, 'A52530': 3, 'A54010': 3, 'A54020': 3, 'A54030': 3, 'A47510': 3, 'A47520': 3, 'A47530': 3, 'A51510': 3, 'A51520': 3, 'A51530': 3}\n"
     ]
    }
   ],
   "source": [
    "activity_pre_dist_dic = {}\n",
    "for _, line in activity_pre_dist.iterrows():\n",
    "    activity_pre_dist_dic[line['code']] = line['predecessor_dist']\n",
    "\n",
    "print(activity_pre_dist_dic)"
   ]
  },
  {
   "cell_type": "markdown",
   "metadata": {},
   "source": [
    "### Loading updated schedule"
   ]
  },
  {
   "cell_type": "code",
   "execution_count": 13,
   "metadata": {},
   "outputs": [
    {
     "ename": "FileNotFoundError",
     "evalue": "[Errno 2] No such file or directory: 'D:/cns/navi-master/navi/schedule/schedule_N-05_structure_C-updated_I-062.xlsx'",
     "output_type": "error",
     "traceback": [
      "\u001b[1;31m---------------------------------------------------------------------------\u001b[0m",
      "\u001b[1;31mFileNotFoundError\u001b[0m                         Traceback (most recent call last)",
      "\u001b[1;32m<ipython-input-13-6296c9a30a0b>\u001b[0m in \u001b[0;36m<module>\u001b[1;34m\u001b[0m\n\u001b[0;32m      1\u001b[0m \u001b[0mactivity_book\u001b[0m \u001b[1;33m=\u001b[0m \u001b[0mnaviio\u001b[0m\u001b[1;33m.\u001b[0m\u001b[0mimport_activity_book\u001b[0m\u001b[1;33m(\u001b[0m\u001b[1;33m)\u001b[0m\u001b[1;33m\u001b[0m\u001b[1;33m\u001b[0m\u001b[0m\n\u001b[0;32m      2\u001b[0m \u001b[0mfpath\u001b[0m \u001b[1;33m=\u001b[0m \u001b[1;34m'D:/cns/navi-master/navi/schedule/schedule_N-05_structure_C-updated_I-062.xlsx'\u001b[0m\u001b[1;33m\u001b[0m\u001b[1;33m\u001b[0m\u001b[0m\n\u001b[1;32m----> 3\u001b[1;33m \u001b[0mschedule\u001b[0m \u001b[1;33m=\u001b[0m \u001b[0mnaviio\u001b[0m\u001b[1;33m.\u001b[0m\u001b[0mxlsx2schedule\u001b[0m\u001b[1;33m(\u001b[0m\u001b[0mactivity_book\u001b[0m\u001b[1;33m=\u001b[0m\u001b[0mactivity_book\u001b[0m\u001b[1;33m,\u001b[0m \u001b[0mfpath\u001b[0m\u001b[1;33m=\u001b[0m\u001b[0mfpath\u001b[0m\u001b[1;33m)\u001b[0m\u001b[1;33m\u001b[0m\u001b[1;33m\u001b[0m\u001b[0m\n\u001b[0m\u001b[0;32m      4\u001b[0m \u001b[0mschedule\u001b[0m\u001b[1;33m\u001b[0m\u001b[1;33m\u001b[0m\u001b[0m\n",
      "\u001b[1;32mD:\\cns\\navi-master\\navi\\naviutil.py\u001b[0m in \u001b[0;36mxlsx2schedule\u001b[1;34m(self, activity_book, **kwargs)\u001b[0m\n\u001b[0;32m     83\u001b[0m             \u001b[0mfpath\u001b[0m \u001b[1;33m=\u001b[0m \u001b[0mos\u001b[0m\u001b[1;33m.\u001b[0m\u001b[0mpath\u001b[0m\u001b[1;33m.\u001b[0m\u001b[0msep\u001b[0m\u001b[1;33m.\u001b[0m\u001b[0mjoin\u001b[0m\u001b[1;33m(\u001b[0m\u001b[1;33m(\u001b[0m\u001b[0mNaviPath\u001b[0m\u001b[1;33m(\u001b[0m\u001b[1;33m)\u001b[0m\u001b[1;33m.\u001b[0m\u001b[0mfdir_schedule\u001b[0m\u001b[1;33m,\u001b[0m \u001b[0mfname\u001b[0m\u001b[1;33m)\u001b[0m\u001b[1;33m)\u001b[0m\u001b[1;33m\u001b[0m\u001b[1;33m\u001b[0m\u001b[0m\n\u001b[0;32m     84\u001b[0m \u001b[1;33m\u001b[0m\u001b[0m\n\u001b[1;32m---> 85\u001b[1;33m         \u001b[0mschedule_df\u001b[0m \u001b[1;33m=\u001b[0m \u001b[0mpd\u001b[0m\u001b[1;33m.\u001b[0m\u001b[0mread_excel\u001b[0m\u001b[1;33m(\u001b[0m\u001b[0mfpath\u001b[0m\u001b[1;33m)\u001b[0m\u001b[1;33m\u001b[0m\u001b[1;33m\u001b[0m\u001b[0m\n\u001b[0m\u001b[0;32m     86\u001b[0m         \u001b[0mschedule\u001b[0m \u001b[1;33m=\u001b[0m \u001b[0mdefaultdict\u001b[0m\u001b[1;33m(\u001b[0m\u001b[0mdict\u001b[0m\u001b[1;33m)\u001b[0m\u001b[1;33m\u001b[0m\u001b[1;33m\u001b[0m\u001b[0m\n\u001b[0;32m     87\u001b[0m         \u001b[1;32mfor\u001b[0m \u001b[0mrow\u001b[0m \u001b[1;32min\u001b[0m \u001b[0mschedule_df\u001b[0m\u001b[1;33m.\u001b[0m\u001b[0miterrows\u001b[0m\u001b[1;33m(\u001b[0m\u001b[1;33m)\u001b[0m\u001b[1;33m:\u001b[0m\u001b[1;33m\u001b[0m\u001b[1;33m\u001b[0m\u001b[0m\n",
      "\u001b[1;32m~\\anaconda3\\lib\\site-packages\\pandas\\io\\excel\\_base.py\u001b[0m in \u001b[0;36mread_excel\u001b[1;34m(io, sheet_name, header, names, index_col, usecols, squeeze, dtype, engine, converters, true_values, false_values, skiprows, nrows, na_values, keep_default_na, verbose, parse_dates, date_parser, thousands, comment, skipfooter, convert_float, mangle_dupe_cols, **kwds)\u001b[0m\n\u001b[0;32m    302\u001b[0m \u001b[1;33m\u001b[0m\u001b[0m\n\u001b[0;32m    303\u001b[0m     \u001b[1;32mif\u001b[0m \u001b[1;32mnot\u001b[0m \u001b[0misinstance\u001b[0m\u001b[1;33m(\u001b[0m\u001b[0mio\u001b[0m\u001b[1;33m,\u001b[0m \u001b[0mExcelFile\u001b[0m\u001b[1;33m)\u001b[0m\u001b[1;33m:\u001b[0m\u001b[1;33m\u001b[0m\u001b[1;33m\u001b[0m\u001b[0m\n\u001b[1;32m--> 304\u001b[1;33m         \u001b[0mio\u001b[0m \u001b[1;33m=\u001b[0m \u001b[0mExcelFile\u001b[0m\u001b[1;33m(\u001b[0m\u001b[0mio\u001b[0m\u001b[1;33m,\u001b[0m \u001b[0mengine\u001b[0m\u001b[1;33m=\u001b[0m\u001b[0mengine\u001b[0m\u001b[1;33m)\u001b[0m\u001b[1;33m\u001b[0m\u001b[1;33m\u001b[0m\u001b[0m\n\u001b[0m\u001b[0;32m    305\u001b[0m     \u001b[1;32melif\u001b[0m \u001b[0mengine\u001b[0m \u001b[1;32mand\u001b[0m \u001b[0mengine\u001b[0m \u001b[1;33m!=\u001b[0m \u001b[0mio\u001b[0m\u001b[1;33m.\u001b[0m\u001b[0mengine\u001b[0m\u001b[1;33m:\u001b[0m\u001b[1;33m\u001b[0m\u001b[1;33m\u001b[0m\u001b[0m\n\u001b[0;32m    306\u001b[0m         raise ValueError(\n",
      "\u001b[1;32m~\\anaconda3\\lib\\site-packages\\pandas\\io\\excel\\_base.py\u001b[0m in \u001b[0;36m__init__\u001b[1;34m(self, io, engine)\u001b[0m\n\u001b[0;32m    822\u001b[0m         \u001b[0mself\u001b[0m\u001b[1;33m.\u001b[0m\u001b[0m_io\u001b[0m \u001b[1;33m=\u001b[0m \u001b[0mstringify_path\u001b[0m\u001b[1;33m(\u001b[0m\u001b[0mio\u001b[0m\u001b[1;33m)\u001b[0m\u001b[1;33m\u001b[0m\u001b[1;33m\u001b[0m\u001b[0m\n\u001b[0;32m    823\u001b[0m \u001b[1;33m\u001b[0m\u001b[0m\n\u001b[1;32m--> 824\u001b[1;33m         \u001b[0mself\u001b[0m\u001b[1;33m.\u001b[0m\u001b[0m_reader\u001b[0m \u001b[1;33m=\u001b[0m \u001b[0mself\u001b[0m\u001b[1;33m.\u001b[0m\u001b[0m_engines\u001b[0m\u001b[1;33m[\u001b[0m\u001b[0mengine\u001b[0m\u001b[1;33m]\u001b[0m\u001b[1;33m(\u001b[0m\u001b[0mself\u001b[0m\u001b[1;33m.\u001b[0m\u001b[0m_io\u001b[0m\u001b[1;33m)\u001b[0m\u001b[1;33m\u001b[0m\u001b[1;33m\u001b[0m\u001b[0m\n\u001b[0m\u001b[0;32m    825\u001b[0m \u001b[1;33m\u001b[0m\u001b[0m\n\u001b[0;32m    826\u001b[0m     \u001b[1;32mdef\u001b[0m \u001b[0m__fspath__\u001b[0m\u001b[1;33m(\u001b[0m\u001b[0mself\u001b[0m\u001b[1;33m)\u001b[0m\u001b[1;33m:\u001b[0m\u001b[1;33m\u001b[0m\u001b[1;33m\u001b[0m\u001b[0m\n",
      "\u001b[1;32m~\\anaconda3\\lib\\site-packages\\pandas\\io\\excel\\_xlrd.py\u001b[0m in \u001b[0;36m__init__\u001b[1;34m(self, filepath_or_buffer)\u001b[0m\n\u001b[0;32m     19\u001b[0m         \u001b[0merr_msg\u001b[0m \u001b[1;33m=\u001b[0m \u001b[1;34m\"Install xlrd >= 1.0.0 for Excel support\"\u001b[0m\u001b[1;33m\u001b[0m\u001b[1;33m\u001b[0m\u001b[0m\n\u001b[0;32m     20\u001b[0m         \u001b[0mimport_optional_dependency\u001b[0m\u001b[1;33m(\u001b[0m\u001b[1;34m\"xlrd\"\u001b[0m\u001b[1;33m,\u001b[0m \u001b[0mextra\u001b[0m\u001b[1;33m=\u001b[0m\u001b[0merr_msg\u001b[0m\u001b[1;33m)\u001b[0m\u001b[1;33m\u001b[0m\u001b[1;33m\u001b[0m\u001b[0m\n\u001b[1;32m---> 21\u001b[1;33m         \u001b[0msuper\u001b[0m\u001b[1;33m(\u001b[0m\u001b[1;33m)\u001b[0m\u001b[1;33m.\u001b[0m\u001b[0m__init__\u001b[0m\u001b[1;33m(\u001b[0m\u001b[0mfilepath_or_buffer\u001b[0m\u001b[1;33m)\u001b[0m\u001b[1;33m\u001b[0m\u001b[1;33m\u001b[0m\u001b[0m\n\u001b[0m\u001b[0;32m     22\u001b[0m \u001b[1;33m\u001b[0m\u001b[0m\n\u001b[0;32m     23\u001b[0m     \u001b[1;33m@\u001b[0m\u001b[0mproperty\u001b[0m\u001b[1;33m\u001b[0m\u001b[1;33m\u001b[0m\u001b[0m\n",
      "\u001b[1;32m~\\anaconda3\\lib\\site-packages\\pandas\\io\\excel\\_base.py\u001b[0m in \u001b[0;36m__init__\u001b[1;34m(self, filepath_or_buffer)\u001b[0m\n\u001b[0;32m    351\u001b[0m             \u001b[0mself\u001b[0m\u001b[1;33m.\u001b[0m\u001b[0mbook\u001b[0m \u001b[1;33m=\u001b[0m \u001b[0mself\u001b[0m\u001b[1;33m.\u001b[0m\u001b[0mload_workbook\u001b[0m\u001b[1;33m(\u001b[0m\u001b[0mfilepath_or_buffer\u001b[0m\u001b[1;33m)\u001b[0m\u001b[1;33m\u001b[0m\u001b[1;33m\u001b[0m\u001b[0m\n\u001b[0;32m    352\u001b[0m         \u001b[1;32melif\u001b[0m \u001b[0misinstance\u001b[0m\u001b[1;33m(\u001b[0m\u001b[0mfilepath_or_buffer\u001b[0m\u001b[1;33m,\u001b[0m \u001b[0mstr\u001b[0m\u001b[1;33m)\u001b[0m\u001b[1;33m:\u001b[0m\u001b[1;33m\u001b[0m\u001b[1;33m\u001b[0m\u001b[0m\n\u001b[1;32m--> 353\u001b[1;33m             \u001b[0mself\u001b[0m\u001b[1;33m.\u001b[0m\u001b[0mbook\u001b[0m \u001b[1;33m=\u001b[0m \u001b[0mself\u001b[0m\u001b[1;33m.\u001b[0m\u001b[0mload_workbook\u001b[0m\u001b[1;33m(\u001b[0m\u001b[0mfilepath_or_buffer\u001b[0m\u001b[1;33m)\u001b[0m\u001b[1;33m\u001b[0m\u001b[1;33m\u001b[0m\u001b[0m\n\u001b[0m\u001b[0;32m    354\u001b[0m         \u001b[1;32melif\u001b[0m \u001b[0misinstance\u001b[0m\u001b[1;33m(\u001b[0m\u001b[0mfilepath_or_buffer\u001b[0m\u001b[1;33m,\u001b[0m \u001b[0mbytes\u001b[0m\u001b[1;33m)\u001b[0m\u001b[1;33m:\u001b[0m\u001b[1;33m\u001b[0m\u001b[1;33m\u001b[0m\u001b[0m\n\u001b[0;32m    355\u001b[0m             \u001b[0mself\u001b[0m\u001b[1;33m.\u001b[0m\u001b[0mbook\u001b[0m \u001b[1;33m=\u001b[0m \u001b[0mself\u001b[0m\u001b[1;33m.\u001b[0m\u001b[0mload_workbook\u001b[0m\u001b[1;33m(\u001b[0m\u001b[0mBytesIO\u001b[0m\u001b[1;33m(\u001b[0m\u001b[0mfilepath_or_buffer\u001b[0m\u001b[1;33m)\u001b[0m\u001b[1;33m)\u001b[0m\u001b[1;33m\u001b[0m\u001b[1;33m\u001b[0m\u001b[0m\n",
      "\u001b[1;32m~\\anaconda3\\lib\\site-packages\\pandas\\io\\excel\\_xlrd.py\u001b[0m in \u001b[0;36mload_workbook\u001b[1;34m(self, filepath_or_buffer)\u001b[0m\n\u001b[0;32m     34\u001b[0m             \u001b[1;32mreturn\u001b[0m \u001b[0mopen_workbook\u001b[0m\u001b[1;33m(\u001b[0m\u001b[0mfile_contents\u001b[0m\u001b[1;33m=\u001b[0m\u001b[0mdata\u001b[0m\u001b[1;33m)\u001b[0m\u001b[1;33m\u001b[0m\u001b[1;33m\u001b[0m\u001b[0m\n\u001b[0;32m     35\u001b[0m         \u001b[1;32melse\u001b[0m\u001b[1;33m:\u001b[0m\u001b[1;33m\u001b[0m\u001b[1;33m\u001b[0m\u001b[0m\n\u001b[1;32m---> 36\u001b[1;33m             \u001b[1;32mreturn\u001b[0m \u001b[0mopen_workbook\u001b[0m\u001b[1;33m(\u001b[0m\u001b[0mfilepath_or_buffer\u001b[0m\u001b[1;33m)\u001b[0m\u001b[1;33m\u001b[0m\u001b[1;33m\u001b[0m\u001b[0m\n\u001b[0m\u001b[0;32m     37\u001b[0m \u001b[1;33m\u001b[0m\u001b[0m\n\u001b[0;32m     38\u001b[0m     \u001b[1;33m@\u001b[0m\u001b[0mproperty\u001b[0m\u001b[1;33m\u001b[0m\u001b[1;33m\u001b[0m\u001b[0m\n",
      "\u001b[1;32m~\\anaconda3\\lib\\site-packages\\xlrd\\__init__.py\u001b[0m in \u001b[0;36mopen_workbook\u001b[1;34m(filename, logfile, verbosity, use_mmap, file_contents, encoding_override, formatting_info, on_demand, ragged_rows)\u001b[0m\n\u001b[0;32m    109\u001b[0m     \u001b[1;32melse\u001b[0m\u001b[1;33m:\u001b[0m\u001b[1;33m\u001b[0m\u001b[1;33m\u001b[0m\u001b[0m\n\u001b[0;32m    110\u001b[0m         \u001b[0mfilename\u001b[0m \u001b[1;33m=\u001b[0m \u001b[0mos\u001b[0m\u001b[1;33m.\u001b[0m\u001b[0mpath\u001b[0m\u001b[1;33m.\u001b[0m\u001b[0mexpanduser\u001b[0m\u001b[1;33m(\u001b[0m\u001b[0mfilename\u001b[0m\u001b[1;33m)\u001b[0m\u001b[1;33m\u001b[0m\u001b[1;33m\u001b[0m\u001b[0m\n\u001b[1;32m--> 111\u001b[1;33m         \u001b[1;32mwith\u001b[0m \u001b[0mopen\u001b[0m\u001b[1;33m(\u001b[0m\u001b[0mfilename\u001b[0m\u001b[1;33m,\u001b[0m \u001b[1;34m\"rb\"\u001b[0m\u001b[1;33m)\u001b[0m \u001b[1;32mas\u001b[0m \u001b[0mf\u001b[0m\u001b[1;33m:\u001b[0m\u001b[1;33m\u001b[0m\u001b[1;33m\u001b[0m\u001b[0m\n\u001b[0m\u001b[0;32m    112\u001b[0m             \u001b[0mpeek\u001b[0m \u001b[1;33m=\u001b[0m \u001b[0mf\u001b[0m\u001b[1;33m.\u001b[0m\u001b[0mread\u001b[0m\u001b[1;33m(\u001b[0m\u001b[0mpeeksz\u001b[0m\u001b[1;33m)\u001b[0m\u001b[1;33m\u001b[0m\u001b[1;33m\u001b[0m\u001b[0m\n\u001b[0;32m    113\u001b[0m     \u001b[1;32mif\u001b[0m \u001b[0mpeek\u001b[0m \u001b[1;33m==\u001b[0m \u001b[1;34mb\"PK\\x03\\x04\"\u001b[0m\u001b[1;33m:\u001b[0m \u001b[1;31m# a ZIP file\u001b[0m\u001b[1;33m\u001b[0m\u001b[1;33m\u001b[0m\u001b[0m\n",
      "\u001b[1;31mFileNotFoundError\u001b[0m: [Errno 2] No such file or directory: 'D:/cns/navi-master/navi/schedule/schedule_N-05_structure_C-updated_I-062.xlsx'"
     ]
    }
   ],
   "source": [
    "activity_book = naviio.import_activity_book()\n",
    "fpath = 'D:/cns/navi-master/navi/schedule/schedule_N-05_structure_C-updated_I-062.xlsx'\n",
    "schedule = naviio.xlsx2schedule(activity_book=activity_book, fpath=fpath)\n",
    "schedule\n"
   ]
  },
  {
   "cell_type": "code",
   "execution_count": 7,
   "metadata": {},
   "outputs": [
    {
     "ename": "NameError",
     "evalue": "name 'schedule' is not defined",
     "output_type": "error",
     "traceback": [
      "\u001b[1;31m---------------------------------------------------------------------------\u001b[0m",
      "\u001b[1;31mNameError\u001b[0m                                 Traceback (most recent call last)",
      "\u001b[1;32m<ipython-input-7-5f616ce1ca26>\u001b[0m in \u001b[0;36m<module>\u001b[1;34m\u001b[0m\n\u001b[1;32m----> 1\u001b[1;33m \u001b[0mschedule\u001b[0m\u001b[1;33m[\u001b[0m\u001b[1;34m'2_1_-1'\u001b[0m\u001b[1;33m]\u001b[0m\u001b[1;33m\u001b[0m\u001b[1;33m\u001b[0m\u001b[0m\n\u001b[0m\u001b[0;32m      2\u001b[0m \u001b[0mactivity_pre_dist_dic\u001b[0m\u001b[1;33m[\u001b[0m\u001b[1;34m'S10010'\u001b[0m\u001b[1;33m]\u001b[0m\u001b[1;33m\u001b[0m\u001b[1;33m\u001b[0m\u001b[0m\n",
      "\u001b[1;31mNameError\u001b[0m: name 'schedule' is not defined"
     ]
    }
   ],
   "source": [
    "schedule['2_1_-1']\n",
    "activity_pre_dist_dic['S10010']"
   ]
  },
  {
   "cell_type": "markdown",
   "metadata": {},
   "source": [
    "### checking activity & dist "
   ]
  },
  {
   "cell_type": "code",
   "execution_count": 20,
   "metadata": {},
   "outputs": [
    {
     "data": {
      "text/plain": [
       "dict_keys(['2_1_-1', '2_2_-1', '2_3_-1', '3_2_2', '3_3_2', '2_3_2', '3_1_2', '3_1_-1', '3_2_-1', '3_3_-1', '2_1_1', '2_2_1', '2_3_1', '3_1_1', '3_2_1', '3_3_1', '2_1_2', '2_2_2'])"
      ]
     },
     "execution_count": 20,
     "metadata": {},
     "output_type": "execute_result"
    }
   ],
   "source": [
    "schedule.keys()#첫날의 작업 중 첫번째다 치고\n"
   ]
  },
  {
   "cell_type": "code",
   "execution_count": 28,
   "metadata": {},
   "outputs": [
    {
     "ename": "TypeError",
     "evalue": "'collections.defaultdict' object is not callable",
     "output_type": "error",
     "traceback": [
      "\u001b[1;31m---------------------------------------------------------------------------\u001b[0m",
      "\u001b[1;31mTypeError\u001b[0m                                 Traceback (most recent call last)",
      "\u001b[1;32m<ipython-input-28-445f6f9ba7aa>\u001b[0m in \u001b[0;36m<module>\u001b[1;34m\u001b[0m\n\u001b[1;32m----> 1\u001b[1;33m \u001b[0mcheck_pre_dist_act\u001b[0m \u001b[1;33m=\u001b[0m \u001b[0mschedule\u001b[0m\u001b[1;33m(\u001b[0m\u001b[1;34m'2_1_-1'\u001b[0m\u001b[1;33m)\u001b[0m\u001b[1;33m\u001b[0m\u001b[1;33m\u001b[0m\u001b[0m\n\u001b[0m\u001b[0;32m      2\u001b[0m \u001b[0mchecked_dist\u001b[0m \u001b[1;33m=\u001b[0m \u001b[0mactivity_pre_dist_dic\u001b[0m\u001b[1;33m[\u001b[0m\u001b[0mcheck_pre_dist_act\u001b[0m\u001b[1;33m]\u001b[0m \u001b[1;31m#첫날 첫번째 작업의 선행완료거리값\u001b[0m\u001b[1;33m\u001b[0m\u001b[1;33m\u001b[0m\u001b[0m\n\u001b[0;32m      3\u001b[0m \u001b[0mprint\u001b[0m\u001b[1;33m(\u001b[0m\u001b[0mchecked_dist\u001b[0m\u001b[1;33m)\u001b[0m\u001b[1;33m\u001b[0m\u001b[1;33m\u001b[0m\u001b[0m\n",
      "\u001b[1;31mTypeError\u001b[0m: 'collections.defaultdict' object is not callable"
     ]
    }
   ],
   "source": [
    "check_pre_dist_act = schedule('2_1_-1')\n",
    "checked_dist = activity_pre_dist_dic[check_pre_dist_act] #첫날 첫번째 작업의 선행완료거리값\n",
    "print(checked_dist)"
   ]
  },
  {
   "cell_type": "markdown",
   "metadata": {},
   "source": [
    "### grid & activity"
   ]
  },
  {
   "cell_type": "code",
   "execution_count": 51,
   "metadata": {},
   "outputs": [
    {
     "name": "stdout",
     "output_type": "stream",
     "text": [
      "{'3_2_2': 'S10010', '3_3_2': 'S10010', '2_3_2': 'S10010', '3_1_2': 'S10010', '2_2_2': 'S10010'}\n"
     ]
    }
   ],
   "source": [
    "act_grids ={}\n",
    "for location, activity in schedule.iterrows():\n",
    "    if activity[0] == check_pre_dist_act: #확인된 작업과 동일한 그리드\n",
    "        act_grids[activity[\"Unnamed: 0\"]] = activity[0] #확인된 작업과 동일한 그리드 딕셔너리 생성\n",
    "print(act_grids)"
   ]
  },
  {
   "cell_type": "markdown",
   "metadata": {},
   "source": [
    "###   finding grids inside influence of act"
   ]
  },
  {
   "cell_type": "code",
   "execution_count": 76,
   "metadata": {},
   "outputs": [
    {
     "name": "stdout",
     "output_type": "stream",
     "text": [
      "[6, 5, 4, 1, 2, 3] [5, 4, 3, 1, 2] [2, 1]\n",
      "[6, 5, 4, 1, 2, 3] [6, 5, 4, 1, 2, 3] [2, 1]\n",
      "[5, 4, 3, 1, 2] [6, 5, 4, 1, 2, 3] [2, 1]\n",
      "[6, 5, 4, 1, 2, 3] [4, 3, 2, 1] [2, 1]\n",
      "[5, 4, 3, 1, 2] [5, 4, 3, 1, 2] [2, 1]\n"
     ]
    }
   ],
   "source": [
    "for grid, activity in act_grids.items():\n",
    "    x, y, z = grid.split(\"_\")\n",
    "    pre_dist1 = checked_dist\n",
    "    pre_dist2 = checked_dist\n",
    "    pre_dist_z1 = 1\n",
    "    pre_dist_z2 = int(-1)\n",
    "    x = int(x)\n",
    "    y = int(y)\n",
    "    z = int(z)\n",
    "    pre_dist_location_x_list=[]\n",
    "    pre_dist_location_y_list=[]\n",
    "    pre_dist_location_z_list=[z]\n",
    "    while pre_dist1 > 0:\n",
    "        pred_dist_x1 = x + pre_dist1\n",
    "        pre_dist_location_x_list.append(pred_dist_x1)\n",
    "        pred_dist_y1 = y + pre_dist1\n",
    "        pre_dist_location_y_list.append(pred_dist_y1)\n",
    "        pre_dist1 = pre_dist1 - 1\n",
    "\n",
    "    while pre_dist2 >= 0:\n",
    "        pred_dist_x2 = x - pre_dist2\n",
    "        pred_dist_y2 = y - pre_dist2\n",
    "        if pred_dist_x2 > 0:\n",
    "            pre_dist_location_x_list.append(pred_dist_x2)\n",
    "        if pred_dist_y2 > 0:\n",
    "            pre_dist_location_y_list.append(pred_dist_y2)\n",
    "        pre_dist2 = pre_dist2 - 1\n",
    "    \n",
    "    if 'D' in check_pre_dist_act:\n",
    "        pred_dist_z = z + pre_dist_z1\n",
    "        pre_dist_location_z_list.append(pred_dist_z)\n",
    "    elif 'S' in check_pre_dist_act:\n",
    "        pred_dist_z = z + pre_dist_z2\n",
    "        pre_dist_location_z_list.append(pred_dist_z)\n",
    "        \n",
    "   \n",
    "    print(pre_dist_location_x_list,pre_dist_location_y_list,pre_dist_location_z_list)\n"
   ]
  },
  {
   "cell_type": "markdown",
   "metadata": {},
   "source": [
    "### making influence grid"
   ]
  },
  {
   "cell_type": "code",
   "execution_count": 30,
   "metadata": {},
   "outputs": [
    {
     "ename": "NameError",
     "evalue": "name 'pre_dist_location_x_list' is not defined",
     "output_type": "error",
     "traceback": [
      "\u001b[1;31m---------------------------------------------------------------------------\u001b[0m",
      "\u001b[1;31mNameError\u001b[0m                                 Traceback (most recent call last)",
      "\u001b[1;32m<ipython-input-30-a1d9f9d92884>\u001b[0m in \u001b[0;36m<module>\u001b[1;34m\u001b[0m\n\u001b[0;32m      1\u001b[0m \u001b[0minfluence_locations\u001b[0m\u001b[1;33m=\u001b[0m\u001b[1;33m[\u001b[0m\u001b[1;33m]\u001b[0m\u001b[1;33m\u001b[0m\u001b[1;33m\u001b[0m\u001b[0m\n\u001b[1;32m----> 2\u001b[1;33m \u001b[1;32mfor\u001b[0m \u001b[0mx\u001b[0m \u001b[1;32min\u001b[0m \u001b[0mpre_dist_location_x_list\u001b[0m\u001b[1;33m:\u001b[0m\u001b[1;33m\u001b[0m\u001b[1;33m\u001b[0m\u001b[0m\n\u001b[0m\u001b[0;32m      3\u001b[0m     \u001b[0mx\u001b[0m\u001b[1;33m=\u001b[0m\u001b[0mstr\u001b[0m\u001b[1;33m(\u001b[0m\u001b[0mx\u001b[0m\u001b[1;33m)\u001b[0m\u001b[1;33m\u001b[0m\u001b[1;33m\u001b[0m\u001b[0m\n\u001b[0;32m      4\u001b[0m     \u001b[1;32mfor\u001b[0m \u001b[0my\u001b[0m \u001b[1;32min\u001b[0m \u001b[0mpre_dist_location_y_list\u001b[0m\u001b[1;33m:\u001b[0m\u001b[1;33m\u001b[0m\u001b[1;33m\u001b[0m\u001b[0m\n\u001b[0;32m      5\u001b[0m         \u001b[0my\u001b[0m\u001b[1;33m=\u001b[0m\u001b[0mstr\u001b[0m\u001b[1;33m(\u001b[0m\u001b[0my\u001b[0m\u001b[1;33m)\u001b[0m\u001b[1;33m\u001b[0m\u001b[1;33m\u001b[0m\u001b[0m\n",
      "\u001b[1;31mNameError\u001b[0m: name 'pre_dist_location_x_list' is not defined"
     ]
    }
   ],
   "source": [
    "influence_locations=[]\n",
    "for x in pre_dist_location_x_list:\n",
    "    x=str(x)\n",
    "    for y in pre_dist_location_y_list:\n",
    "        y=str(y)\n",
    "        for z in pre_dist_location_z_list:\n",
    "            z=str(z)\n",
    "            influence_x_y_z = []\n",
    "            influence_x_y_z.append(x)\n",
    "            influence_x_y_z.append(y)\n",
    "            influence_x_y_z.append(z)\n",
    "            influence_location = '_'.join(influence_x_y_z)            \n",
    "            influence_locations.append(influence_location)\n",
    "\n",
    "print(influence_locations)\n"
   ]
  },
  {
   "cell_type": "code",
   "execution_count": 55,
   "metadata": {},
   "outputs": [
    {
     "name": "stdout",
     "output_type": "stream",
     "text": [
      "['5_5_2', '5_5_1', '5_4_2', '5_4_1', '5_3_2', '5_3_1', '5_1_2', '5_1_1', '5_2_2', '5_2_1', '4_5_2', '4_5_1', '4_4_2', '4_4_1', '4_3_2', '4_3_1', '4_1_2', '4_1_1', '4_2_2', '4_2_1', '3_5_2', '3_5_1', '3_4_2', '3_4_1', '3_3_1', '3_1_1', '3_2_1', '1_5_2', '1_5_1', '1_4_2', '1_4_1', '1_3_2', '1_3_1', '1_1_2', '1_1_1', '1_2_2', '1_2_1', '2_5_2', '2_5_1', '2_4_2', '2_4_1', '2_3_1', '2_1_2', '2_1_1', '2_2_1']\n"
     ]
    }
   ],
   "source": [
    "# 자신의 그리드 제거\n",
    "for location_except, activity in act_grids.items():\n",
    "    while location_except in influence_locations:\n",
    "        influence_locations.remove(location_except)\n",
    "        \n",
    "print(influence_locations)"
   ]
  },
  {
   "cell_type": "markdown",
   "metadata": {},
   "source": [
    "### activity in influence locations "
   ]
  },
  {
   "cell_type": "code",
   "execution_count": 75,
   "metadata": {},
   "outputs": [
    {
     "name": "stdout",
     "output_type": "stream",
     "text": [
      "{'2_1_1': 0        NaN\n",
      "1        NaN\n",
      "2     S10010\n",
      "3        NaN\n",
      "4        NaN\n",
      "5        NaN\n",
      "6        NaN\n",
      "7     S10020\n",
      "8        NaN\n",
      "9        NaN\n",
      "10       NaN\n",
      "11       NaN\n",
      "12       NaN\n",
      "13    S10030\n",
      "14       NaN\n",
      "15       NaN\n",
      "16       NaN\n",
      "17       NaN\n",
      "18       NaN\n",
      "Name: 10, dtype: object, '2_2_1': 0        NaN\n",
      "1        NaN\n",
      "2     S10010\n",
      "3        NaN\n",
      "4        NaN\n",
      "5        NaN\n",
      "6        NaN\n",
      "7     S10020\n",
      "8        NaN\n",
      "9        NaN\n",
      "10       NaN\n",
      "11       NaN\n",
      "12       NaN\n",
      "13    S10030\n",
      "14       NaN\n",
      "15       NaN\n",
      "16       NaN\n",
      "17       NaN\n",
      "18       NaN\n",
      "Name: 11, dtype: object, '2_3_1': 0        NaN\n",
      "1     S10010\n",
      "2        NaN\n",
      "3        NaN\n",
      "4        NaN\n",
      "5        NaN\n",
      "6        NaN\n",
      "7     S10020\n",
      "8        NaN\n",
      "9        NaN\n",
      "10       NaN\n",
      "11       NaN\n",
      "12       NaN\n",
      "13    S10030\n",
      "14       NaN\n",
      "15       NaN\n",
      "16       NaN\n",
      "17       NaN\n",
      "18       NaN\n",
      "Name: 12, dtype: object, '3_1_1': 0        NaN\n",
      "1     S10010\n",
      "2        NaN\n",
      "3        NaN\n",
      "4        NaN\n",
      "5        NaN\n",
      "6     S10020\n",
      "7        NaN\n",
      "8        NaN\n",
      "9        NaN\n",
      "10       NaN\n",
      "11       NaN\n",
      "12    S10030\n",
      "13       NaN\n",
      "14       NaN\n",
      "15       NaN\n",
      "16       NaN\n",
      "17       NaN\n",
      "18    S10040\n",
      "Name: 13, dtype: object, '3_2_1': 0        NaN\n",
      "1     S10010\n",
      "2        NaN\n",
      "3        NaN\n",
      "4        NaN\n",
      "5        NaN\n",
      "6     S10020\n",
      "7        NaN\n",
      "8        NaN\n",
      "9        NaN\n",
      "10       NaN\n",
      "11       NaN\n",
      "12    S10030\n",
      "13       NaN\n",
      "14       NaN\n",
      "15       NaN\n",
      "16       NaN\n",
      "17       NaN\n",
      "18    S10040\n",
      "Name: 14, dtype: object, '3_3_1': 0        NaN\n",
      "1     S10010\n",
      "2        NaN\n",
      "3        NaN\n",
      "4        NaN\n",
      "5        NaN\n",
      "6     S10020\n",
      "7        NaN\n",
      "8        NaN\n",
      "9        NaN\n",
      "10       NaN\n",
      "11       NaN\n",
      "12    S10030\n",
      "13       NaN\n",
      "14       NaN\n",
      "15       NaN\n",
      "16       NaN\n",
      "17       NaN\n",
      "18    S10040\n",
      "Name: 15, dtype: object, '2_1_2': 0        NaN\n",
      "1     S10010\n",
      "2        NaN\n",
      "3        NaN\n",
      "4        NaN\n",
      "5     S10020\n",
      "6        NaN\n",
      "7        NaN\n",
      "8        NaN\n",
      "9        NaN\n",
      "10       NaN\n",
      "11    S10030\n",
      "12       NaN\n",
      "13       NaN\n",
      "14       NaN\n",
      "15       NaN\n",
      "16       NaN\n",
      "17    S10040\n",
      "18       NaN\n",
      "Name: 16, dtype: object}\n"
     ]
    }
   ],
   "source": [
    "#location 리스트와 o일의 작업리스트 중 influence location에 있는 거만 작업리스트 만들기\n",
    "acts_in_Influence_locations = {}\n",
    "for location, activity in schedule.iterrows():\n",
    "     if activity[\"Unnamed: 0\"] in influence_locations:\n",
    "        acts_in_Influence_locations[activity[\"Unnamed: 0\"]]=activity[1:20] #1은 day로 치환 필요\n",
    "print(acts_in_Influence_locations)\n"
   ]
  },
  {
   "cell_type": "markdown",
   "metadata": {},
   "source": [
    "### checking activity logic with influence locations"
   ]
  },
  {
   "cell_type": "code",
   "execution_count": null,
   "metadata": {},
   "outputs": [],
   "source": [
    "#영향받는 location에 있는 작업의 당일과 이후 20일이내에 check_pre_dist_act(검사하고 있는 작업)보다 선행인지 확인\n",
    "# 선행작업 있으면 작업을 민다"
   ]
  },
  {
   "cell_type": "code",
   "execution_count": 74,
   "metadata": {},
   "outputs": [
    {
     "data": {
      "text/html": [
       "<div>\n",
       "<style scoped>\n",
       "    .dataframe tbody tr th:only-of-type {\n",
       "        vertical-align: middle;\n",
       "    }\n",
       "\n",
       "    .dataframe tbody tr th {\n",
       "        vertical-align: top;\n",
       "    }\n",
       "\n",
       "    .dataframe thead th {\n",
       "        text-align: right;\n",
       "    }\n",
       "</style>\n",
       "<table border=\"1\" class=\"dataframe\">\n",
       "  <thead>\n",
       "    <tr style=\"text-align: right;\">\n",
       "      <th></th>\n",
       "      <th>predecessor</th>\n",
       "      <th>successor</th>\n",
       "    </tr>\n",
       "  </thead>\n",
       "  <tbody>\n",
       "    <tr>\n",
       "      <th>0</th>\n",
       "      <td>A41510</td>\n",
       "      <td>A44510</td>\n",
       "    </tr>\n",
       "    <tr>\n",
       "      <th>1</th>\n",
       "      <td>A41510</td>\n",
       "      <td>A45510</td>\n",
       "    </tr>\n",
       "    <tr>\n",
       "      <th>2</th>\n",
       "      <td>A41510</td>\n",
       "      <td>A46010</td>\n",
       "    </tr>\n",
       "    <tr>\n",
       "      <th>3</th>\n",
       "      <td>A41510</td>\n",
       "      <td>A47510</td>\n",
       "    </tr>\n",
       "    <tr>\n",
       "      <th>4</th>\n",
       "      <td>A41510</td>\n",
       "      <td>A48510</td>\n",
       "    </tr>\n",
       "  </tbody>\n",
       "</table>\n",
       "</div>"
      ],
      "text/plain": [
       "  predecessor successor\n",
       "0      A41510    A44510\n",
       "1      A41510    A45510\n",
       "2      A41510    A46010\n",
       "3      A41510    A47510\n",
       "4      A41510    A48510"
      ]
     },
     "execution_count": 74,
     "metadata": {},
     "output_type": "execute_result"
    }
   ],
   "source": [
    "activity_order = pd.read_excel(navipath.activity_order)\n",
    "activity_order.head()"
   ]
  },
  {
   "cell_type": "code",
   "execution_count": null,
   "metadata": {},
   "outputs": [],
   "source": [
    "\n",
    "def check_activity_order_within_work(local_schedule, activity_code):\n",
    "    global activity_book\n",
    "\n",
    "    workday = [day for day in local_schedule.keys() if local_schedule[day] == activity_code][0]\n",
    "\n",
    "    conflict_items = []\n",
    "    for day in range(workday, max(local_schedule.keys())+1, 1):\n",
    "        try:\n",
    "            activity_code2 = local_schedule[day]\n",
    "            activity_1 = activity_book[activity_code]\n",
    "            activity_2 = activity_book[activity_code2]\n",
    "        except KeyError:\n",
    "            continue\n",
    "        \n",
    "        if activity_code2 in activity_1.successor:\n",
    "            order = 'fine'\n",
    "        elif activity_code2 in activity_1.predecessor:\n",
    "            order = 'conflict'\n",
    "        else:\n",
    "            order = 'irrelevant'\n",
    "\n",
    "        if order == 'conflict':\n",
    "            conflict_items.append((day, activity_code2))\n",
    "\n",
    "    return conflict_items\n",
    "\n",
    "def reorder_activity(local_schedule, activity_code, conflict_items):\n",
    "    local_schedule_updated = {}\n",
    "\n",
    "    current = [day for day in local_schedule.keys() if local_schedule[day] == activity_code][0]\n",
    "    move_to = max([day for day, _ in conflict_items])\n",
    "\n",
    "    for day in range(0, len(local_schedule), 1):\n",
    "        if day < current or day > move_to:\n",
    "            local_schedule_updated[day] = local_schedule[day]\n",
    "        elif day == current:\n",
    "            local_schedule_updated[move_to] = local_schedule[day]\n",
    "        else:\n",
    "            local_schedule_updated[day-1] = local_schedule[day]\n",
    "\n",
    "    return {d: a for d, a in sorted(local_schedule_updated.items(), key=lambda x:x[0])}\n",
    "\n",
    "def update_order_in_local_schedule(local_schedule, verbose=False):\n",
    "    for day, activity_code in sorted(local_schedule.items(), key=lambda x:x[0]):\n",
    "        conflict_items = check_activity_order_within_work(local_schedule, activity_code)\n",
    "        \n",
    "        if verbose:\n",
    "            print('{:2}: {}'.format(day, activity_code))\n",
    "        else:\n",
    "            pass\n",
    "\n",
    "        if conflict_items:\n",
    "            for conflicted_day, conflicted_activity_code in conflict_items:\n",
    "                print('  | Conflicts at {}({}) <-> {}({})'.format(activity_code, day, conflicted_activity_code, conflicted_day))\n",
    "\n",
    "            local_schedule_updated = deepcopy(reorder_activity(local_schedule, activity_code, conflict_items))\n",
    "            return local_schedule_updated\n",
    "        else:\n",
    "            continue\n",
    "\n",
    "    return local_schedule\n",
    "\n",
    "def update_order(schedule, verbose_iter=False, verbose_local=False):\n",
    "    schedule_updated = defaultdict(dict)\n",
    "\n",
    "    iteration = 0\n",
    "    for location in schedule.keys():\n",
    "        local_schedule_original = deepcopy(schedule[location])\n",
    "        while True:\n",
    "            iteration += 1\n",
    "\n",
    "            if verbose_iter:\n",
    "                print('============================================================')\n",
    "                print('Iteration: {:03,d} ({})'.format(iteration, location))\n",
    "            else:\n",
    "                pass\n",
    "\n",
    "            local_schedule_updated = deepcopy(update_order_in_local_schedule(local_schedule=local_schedule_original, verbose=verbose_local))\n",
    "            if navifunc.compare_local_schedule(local_schedule_original, local_schedule_updated) == 'same':\n",
    "                schedule_updated[location] = deepcopy(local_schedule_updated)\n",
    "                break\n",
    "            else:\n",
    "                local_schedule_original = deepcopy(local_schedule_updated)\n",
    "\n",
    "    return schedule_updated\n",
    "\n"
   ]
  },
  {
   "cell_type": "code",
   "execution_count": null,
   "metadata": {},
   "outputs": [],
   "source": [
    "# def set_orders_in_activity_book():\n",
    "#     global fname_activity_book\n",
    "\n",
    "#     with open(os.path.sep.join((navipath.fdir_component, fname_activity_book)), 'rb') as f:\n",
    "#         activity_book = pk.load(f)\n",
    "\n",
    "#     activity_order = pd.read_excel(navipath.activity_order)\n",
    "#     key_errors = []\n",
    "#     for _, line in activity_order.iterrows():\n",
    "#         predecessor_code = line['predecessor']\n",
    "#         successor_code = line['successor']\n",
    "\n",
    "#         try:\n",
    "#             predecessor_activity = deepcopy(activity_book[predecessor_code])\n",
    "#         except KeyError:\n",
    "#             key_errors.append(predecessor_code)\n",
    "#             continue\n",
    "#         try:\n",
    "#             successor_activity = deepcopy(activity_book[successor_code])\n",
    "#         except KeyError:\n",
    "#             key_errors.append(successor_code)\n",
    "#             continue\n",
    "\n",
    "#         predecessor_activity.add_successor(successor_activity.code)\n",
    "#         successor_activity.add_predecessor(predecessor_activity.code)\n",
    "\n",
    "#         activity_book[predecessor_code] = predecessor_activity\n",
    "#         activity_book[successor_code] = successor_activity\n",
    "\n",
    "#     updates = [True]\n",
    "#     while any(updates) == True:\n",
    "#         updates = []\n",
    "#         for activity_code in activity_book:\n",
    "#             activity = activity_book[activity_code]\n",
    "\n",
    "#             existing_preds = deepcopy(list(set(activity.predecessor)))\n",
    "#             for pred_code in activity.predecessor:\n",
    "#                 pred_of_pred = list(set(activity_book[pred_code].predecessor))\n",
    "#                 updated_preds = deepcopy(list(set(existing_preds+pred_of_pred)))\n",
    "#                 if set(updated_preds) != set(existing_preds):\n",
    "#                     activity_book[activity_code].predecessor = updated_preds\n",
    "#                     updates.append(True)\n",
    "            \n",
    "#             existing_succs = deepcopy(list(set(activity.successor)))\n",
    "#             for succ_code in activity.successor:\n",
    "#                 succ_of_succ = list(set(activity_book[succ_code].successor))\n",
    "#                 updated_succs = deepcopy(list(set(existing_succs+succ_of_succ)))\n",
    "#                 if set(updated_succs) != set(existing_succs):\n",
    "#                     activity_book[activity_code].successor = updated_succs\n",
    "#                     updates.append(True)\n",
    "\n",
    "#     with open(os.path.sep.join((navipath.fdir_component, fname_activity_book)), 'wb') as f:\n",
    "#         pk.dump(activity_book, f)\n",
    "\n",
    "#     print('============================================================')\n",
    "#     print('Set order information to ActivityBook')\n",
    "#     print('  | fdir : {}'.format(navipath.fdir_component))\n",
    "#     print('  | fname: {}'.format(fname_activity_book))\n",
    "\n",
    "#     if key_errors:\n",
    "#         print('Errors on ActivityOrder template')\n",
    "#         key_errors = list(set(key_errors))\n",
    "#         for activity_code in key_errors:\n",
    "#             print('  | Absent in ActivityBook: {}'.format(activity_code))\n",
    "#     else:\n",
    "#         pass\n"
   ]
  },
  {
   "cell_type": "code",
   "execution_count": null,
   "metadata": {},
   "outputs": [],
   "source": [
    "#제 제약조건상에 오류를 발견했어요....\n",
    "#골조 Workpackage(우리 파일에 Major Actiity)에 세부 작업 먹놓기.... 타설, 양생까지 작업이 있다면\n",
    "#하부층의 양생이 완료된 후에 상부층 먹놓기가 가능하니까,,, 그냥 선후 작업만 확인해서는 안되네요\n",
    "#동일층에서는 먹놓기 생산성 만큼 마무리 되면 다른 구역의 먹놓기 작업이 진행가능....\n",
    "#제약조건이 추가되어야 하네요....\n",
    "#머리가 좀 아프므로, 레벨의 변화 없이 동일 레벨에서 작업하는거로 데이타 파일을 다시 구성해야겠습니다. \n",
    "#1층 골조와 2....층 골조 Code를 다르게해서 선후 조건을 걸어야겠어요.... 고민....\n",
    "\n",
    "#그리고 대세에 영향이 없을 수 있으므로 \n",
    "#동일층 내에서 공정계획 자동화하는거에 집중하고\n",
    "#추가로 생산성 고려할때 가까운 location을 우선배정하는거 까지만 제약 추가하고\n",
    "#시각화 좀 고민하고\n",
    "#논문작성에 집중해볼까합니다.\n",
    "#그래도 희망이 보이네요^^ 감사해요\n"
   ]
  }
 ],
 "metadata": {
  "kernelspec": {
   "display_name": "Python 3",
   "language": "python",
   "name": "python3"
  },
  "language_info": {
   "codemirror_mode": {
    "name": "ipython",
    "version": 3
   },
   "file_extension": ".py",
   "mimetype": "text/x-python",
   "name": "python",
   "nbconvert_exporter": "python",
   "pygments_lexer": "ipython3",
   "version": "3.8.3"
  }
 },
 "nbformat": 4,
 "nbformat_minor": 4
}
